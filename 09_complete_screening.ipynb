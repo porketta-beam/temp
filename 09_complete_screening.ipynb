{
 "cells": [
  {
   "cell_type": "markdown",
   "metadata": {},
   "source": [
    "# 09. 통합 CAN SLIM 스크리닝 시스템\n",
    "\n",
    "> README.md 를 보시면 아시겠지만 00부터 09까지 설계를 했는데 제가 만든 부분은 단순 정량분석만 들어가 있습니다\n",
    "\n",
    "> 여러분이 그 뒷부분을 채워나가시면 되겠습니다.\n",
    "\n",
    "> 여러분은 하실 수 있어요!\n",
    "\n",
    "## 목표\n",
    "- 모든 CAN SLIM 지표를 통합한 자동 스크리닝 시스템 구축\n",
    "- 종합 점수 산출 및 순위 결정\n",
    "- 최종 투자 후보 종목 선정\n",
    "\n",
    "## CAN SLIM 전체 기준\n",
    "- **C**: 분기 EPS 25% 이상 성장\n",
    "- **A**: 연간 EPS 25% 이상 성장, ROE 17% 이상\n",
    "- **N**: 52주 신고가 85% 이상\n",
    "- **S**: 적절한 수급 상황\n",
    "- **L**: 상대강도 80 이상\n",
    "- **I**: 기관 매수 증가\n",
    "- **M**: 시장 상승 추세"
   ]
  },
  {
   "cell_type": "code",
   "execution_count": 1,
   "metadata": {},
   "outputs": [
    {
     "name": "stdout",
     "output_type": "stream",
     "text": [
      "스크리닝 기간: 20230906 ~ 20250905\n"
     ]
    }
   ],
   "source": [
    "import pandas as pd\n",
    "import numpy as np\n",
    "from datetime import datetime, timedelta\n",
    "from pykrx import stock\n",
    "import plotly.graph_objects as go\n",
    "import plotly.express as px\n",
    "from plotly.subplots import make_subplots\n",
    "import time\n",
    "from tqdm import tqdm\n",
    "import warnings\n",
    "warnings.filterwarnings('ignore')\n",
    "\n",
    "# 날짜 설정\n",
    "end_date = datetime.now()\n",
    "start_date = end_date - timedelta(days=365*2)\n",
    "\n",
    "start_str = start_date.strftime('%Y%m%d')\n",
    "end_str = end_date.strftime('%Y%m%d')\n",
    "\n",
    "print(f\"스크리닝 기간: {start_str} ~ {end_str}\")"
   ]
  },
  {
   "cell_type": "markdown",
   "metadata": {},
   "source": [
    "## 1. 통합 데이터 수집 클래스"
   ]
  },
  {
   "cell_type": "code",
   "execution_count": 2,
   "metadata": {},
   "outputs": [
    {
     "name": "stdout",
     "output_type": "stream",
     "text": [
      "삼성전자 CAN SLIM 분석:\n",
      "ticker: 005930\n",
      "name: 삼성전자\n",
      "C_Score: 100.0\n",
      "A_Score: 0.0\n",
      "N_Score: 50.0\n",
      "S_Score: 70.0\n",
      "L_Score: 50.0\n",
      "I_Score: 25.0\n",
      "M_Score: 75.0\n",
      "Total_Score: 53.2\n",
      "EPS_Growth: 132.29\n",
      "ROE: 0.09\n",
      "52W_Ratio: 0.89\n",
      "Returns_3M: 19.81\n"
     ]
    }
   ],
   "source": [
    "class CANSLIMAnalyzer:\n",
    "    \"\"\"\n",
    "    CAN SLIM 전체 지표 분석 클래스\n",
    "    \"\"\"\n",
    "    \n",
    "    def __init__(self, ticker, start_date, end_date):\n",
    "        self.ticker = ticker\n",
    "        self.start_date = start_date\n",
    "        self.end_date = end_date\n",
    "        self.name = stock.get_market_ticker_name(ticker)\n",
    "        self.data = {}\n",
    "        self.scores = {}\n",
    "        \n",
    "    def collect_data(self):\n",
    "        \"\"\"모든 필요 데이터 수집\"\"\"\n",
    "        try:\n",
    "            # 주가 데이터\n",
    "            self.data['price'] = stock.get_market_ohlcv_by_date(\n",
    "                self.start_date, self.end_date, self.ticker\n",
    "            )\n",
    "            \n",
    "            # 재무 데이터\n",
    "            self.data['fundamental'] = stock.get_market_fundamental_by_date(\n",
    "                self.start_date, self.end_date, self.ticker\n",
    "            )\n",
    "            \n",
    "            # 투자자별 매매\n",
    "            self.data['investor'] = stock.get_market_trading_value_by_date(\n",
    "                self.start_date, self.end_date, self.ticker, detail=True\n",
    "            )\n",
    "            \n",
    "            return True\n",
    "        except Exception as e:\n",
    "            print(f\"Error collecting data for {self.ticker}: {e}\")\n",
    "            return False\n",
    "    \n",
    "    def calculate_c_score(self):\n",
    "        \"\"\"C - Current Earnings 점수\"\"\"\n",
    "        df = self.data['fundamental']\n",
    "        if df.empty or len(df) < 252:\n",
    "            return 0\n",
    "        \n",
    "        # 분기 EPS 성장률 (YoY)\n",
    "        current_eps = df['EPS'].iloc[-1]\n",
    "        year_ago_eps = df['EPS'].iloc[-252] if len(df) > 252 else df['EPS'].iloc[0]\n",
    "        \n",
    "        eps_growth = ((current_eps / year_ago_eps) - 1) * 100 if year_ago_eps != 0 else 0\n",
    "        \n",
    "        score = 0\n",
    "        if eps_growth >= 50:\n",
    "            score = 100\n",
    "        elif eps_growth >= 25:\n",
    "            score = 75\n",
    "        elif eps_growth >= 15:\n",
    "            score = 50\n",
    "        elif eps_growth >= 0:\n",
    "            score = 25\n",
    "        \n",
    "        self.scores['C'] = score\n",
    "        self.data['eps_growth'] = eps_growth\n",
    "        return score\n",
    "    \n",
    "    def calculate_a_score(self):\n",
    "        \"\"\"A - Annual Earnings 점수\"\"\"\n",
    "        df = self.data['fundamental']\n",
    "        if df.empty:\n",
    "            return 0\n",
    "        \n",
    "        # ROE 계산\n",
    "        roe = df['EPS'].iloc[-1] / df['BPS'].iloc[-1] if df['BPS'].iloc[-1] != 0 else 0\n",
    "        \n",
    "        # 연간 EPS CAGR (가능한 데이터로)\n",
    "        if len(df) >= 252:\n",
    "            years = len(df) / 252\n",
    "            start_eps = df['EPS'].iloc[0]\n",
    "            end_eps = df['EPS'].iloc[-1]\n",
    "            if start_eps > 0:\n",
    "                cagr = (pow(end_eps / start_eps, 1/years) - 1) * 100\n",
    "            else:\n",
    "                cagr = 0\n",
    "        else:\n",
    "            cagr = 0\n",
    "        \n",
    "        score = 0\n",
    "        # ROE 점수 (50점)\n",
    "        if roe >= 0.20:\n",
    "            score += 50\n",
    "        elif roe >= 0.17:\n",
    "            score += 35\n",
    "        elif roe >= 0.10:\n",
    "            score += 20\n",
    "        \n",
    "        # CAGR 점수 (50점)\n",
    "        if cagr >= 25:\n",
    "            score += 50\n",
    "        elif cagr >= 15:\n",
    "            score += 35\n",
    "        elif cagr >= 10:\n",
    "            score += 20\n",
    "        \n",
    "        self.scores['A'] = score\n",
    "        self.data['roe'] = roe\n",
    "        self.data['eps_cagr'] = cagr\n",
    "        return score\n",
    "    \n",
    "    def calculate_n_score(self):\n",
    "        \"\"\"N - New Highs 점수\"\"\"\n",
    "        df = self.data['price']\n",
    "        if df.empty or len(df) < 252:\n",
    "            return 0\n",
    "        \n",
    "        # 52주 최고가 대비\n",
    "        high_52w = df['고가'].rolling(window=252, min_periods=1).max().iloc[-1]\n",
    "        current_price = df['종가'].iloc[-1]\n",
    "        price_ratio = current_price / high_52w if high_52w != 0 else 0\n",
    "        \n",
    "        # 거래량 증가\n",
    "        recent_volume = df['거래량'].tail(5).mean()\n",
    "        avg_volume = df['거래량'].tail(60).mean()\n",
    "        volume_ratio = recent_volume / avg_volume if avg_volume != 0 else 1\n",
    "        \n",
    "        score = 0\n",
    "        # 가격 위치 점수 (70점)\n",
    "        if price_ratio >= 0.95:\n",
    "            score += 70\n",
    "        elif price_ratio >= 0.85:\n",
    "            score += 50\n",
    "        elif price_ratio >= 0.75:\n",
    "            score += 30\n",
    "        \n",
    "        # 거래량 점수 (30점)\n",
    "        if volume_ratio >= 1.5:\n",
    "            score += 30\n",
    "        elif volume_ratio >= 1.2:\n",
    "            score += 20\n",
    "        elif volume_ratio >= 1.0:\n",
    "            score += 10\n",
    "        \n",
    "        self.scores['N'] = score\n",
    "        self.data['price_52w_ratio'] = price_ratio\n",
    "        self.data['volume_ratio'] = volume_ratio\n",
    "        return score\n",
    "    \n",
    "    def calculate_s_score(self):\n",
    "        \"\"\"S - Supply and Demand 점수\"\"\"\n",
    "        # 시가총액과 유동성\n",
    "        df = self.data['price']\n",
    "        if df.empty:\n",
    "            return 0\n",
    "        \n",
    "        # 거래 회전율\n",
    "        avg_volume = df['거래량'].tail(20).mean()\n",
    "        \n",
    "        # 간단한 점수 산정 (거래량 기반)\n",
    "        score = 50  # 기본 점수\n",
    "        if avg_volume > 1000000:\n",
    "            score = 70\n",
    "        elif avg_volume > 500000:\n",
    "            score = 60\n",
    "        \n",
    "        self.scores['S'] = score\n",
    "        return score\n",
    "    \n",
    "    def calculate_l_score(self):\n",
    "        \"\"\"L - Leader or Laggard 점수\"\"\"\n",
    "        df = self.data['price']\n",
    "        if df.empty:\n",
    "            return 0\n",
    "        \n",
    "        # 상대강도 (간단 버전: 3개월 수익률)\n",
    "        if len(df) >= 60:\n",
    "            returns_3m = (df['종가'].iloc[-1] / df['종가'].iloc[-60] - 1) * 100\n",
    "        else:\n",
    "            returns_3m = 0\n",
    "        \n",
    "        score = 0\n",
    "        if returns_3m >= 30:\n",
    "            score = 100\n",
    "        elif returns_3m >= 20:\n",
    "            score = 75\n",
    "        elif returns_3m >= 10:\n",
    "            score = 50\n",
    "        elif returns_3m >= 0:\n",
    "            score = 25\n",
    "        \n",
    "        self.scores['L'] = score\n",
    "        self.data['returns_3m'] = returns_3m\n",
    "        return score\n",
    "    \n",
    "    def calculate_i_score(self):\n",
    "        \"\"\"I - Institutional Sponsorship 점수\"\"\"\n",
    "        df = self.data['investor']\n",
    "        if df.empty:\n",
    "            return 0\n",
    "        \n",
    "        # 최근 20일 기관 순매수\n",
    "        inst_buying = df['기관'].tail(20).sum() if '기관' in df.columns else 0\n",
    "        foreign_buying = df.get('외국인계', df.get('외국인', pd.Series([0]))).tail(20).sum()\n",
    "        \n",
    "        score = 50  # 기본 점수\n",
    "        if inst_buying > 0 and foreign_buying > 0:\n",
    "            score = 100\n",
    "        elif inst_buying > 0 or foreign_buying > 0:\n",
    "            score = 75\n",
    "        elif inst_buying == 0 and foreign_buying == 0:\n",
    "            score = 50\n",
    "        else:\n",
    "            score = 25\n",
    "        \n",
    "        self.scores['I'] = score\n",
    "        self.data['inst_buying_20d'] = inst_buying\n",
    "        self.data['foreign_buying_20d'] = foreign_buying\n",
    "        return score\n",
    "    \n",
    "    def calculate_m_score(self):\n",
    "        \"\"\"M - Market Direction 점수\"\"\"\n",
    "        # 시장 지수 확인 (KOSPI)\n",
    "        try:\n",
    "            kospi = stock.get_index_ohlcv_by_date(self.start_date, self.end_date, '1001')\n",
    "            if len(kospi) >= 20:\n",
    "                ma20 = kospi['종가'].rolling(window=20).mean().iloc[-1]\n",
    "                current = kospi['종가'].iloc[-1]\n",
    "                \n",
    "                if current > ma20 * 1.02:  # 20일 이평선 2% 이상\n",
    "                    score = 100\n",
    "                elif current > ma20:\n",
    "                    score = 75\n",
    "                elif current > ma20 * 0.98:\n",
    "                    score = 50\n",
    "                else:\n",
    "                    score = 25\n",
    "            else:\n",
    "                score = 50\n",
    "        except:\n",
    "            score = 50  # 기본 점수\n",
    "        \n",
    "        self.scores['M'] = score\n",
    "        return score\n",
    "    \n",
    "    def calculate_total_score(self):\n",
    "        \"\"\"전체 CAN SLIM 점수 계산\"\"\"\n",
    "        weights = {\n",
    "            'C': 0.20,\n",
    "            'A': 0.15,\n",
    "            'N': 0.15,\n",
    "            'S': 0.10,\n",
    "            'L': 0.15,\n",
    "            'I': 0.15,\n",
    "            'M': 0.10\n",
    "        }\n",
    "        \n",
    "        total = sum(self.scores.get(key, 0) * weight \n",
    "                   for key, weight in weights.items())\n",
    "        \n",
    "        self.scores['TOTAL'] = total\n",
    "        return total\n",
    "    \n",
    "    def analyze(self):\n",
    "        \"\"\"전체 분석 실행\"\"\"\n",
    "        if not self.collect_data():\n",
    "            return None\n",
    "        \n",
    "        self.calculate_c_score()\n",
    "        self.calculate_a_score()\n",
    "        self.calculate_n_score()\n",
    "        self.calculate_s_score()\n",
    "        self.calculate_l_score()\n",
    "        self.calculate_i_score()\n",
    "        self.calculate_m_score()\n",
    "        self.calculate_total_score()\n",
    "        \n",
    "        return self.get_summary()\n",
    "    \n",
    "    def get_summary(self):\n",
    "        \"\"\"분석 결과 요약\"\"\"\n",
    "        return {\n",
    "            'ticker': self.ticker,\n",
    "            'name': self.name,\n",
    "            'C_Score': self.scores.get('C', 0),\n",
    "            'A_Score': self.scores.get('A', 0),\n",
    "            'N_Score': self.scores.get('N', 0),\n",
    "            'S_Score': self.scores.get('S', 0),\n",
    "            'L_Score': self.scores.get('L', 0),\n",
    "            'I_Score': self.scores.get('I', 0),\n",
    "            'M_Score': self.scores.get('M', 0),\n",
    "            'Total_Score': self.scores.get('TOTAL', 0),\n",
    "            'EPS_Growth': self.data.get('eps_growth', 0),\n",
    "            'ROE': self.data.get('roe', 0),\n",
    "            '52W_Ratio': self.data.get('price_52w_ratio', 0),\n",
    "            'Returns_3M': self.data.get('returns_3m', 0)\n",
    "        }\n",
    "\n",
    "# 테스트\n",
    "analyzer = CANSLIMAnalyzer('005930', start_str, end_str)\n",
    "result = analyzer.analyze()\n",
    "if result:\n",
    "    print(\"삼성전자 CAN SLIM 분석:\")\n",
    "    for key, value in result.items():\n",
    "        if 'Score' in key:\n",
    "            print(f\"{key}: {value:.1f}\")\n",
    "        elif isinstance(value, float):\n",
    "            print(f\"{key}: {value:.2f}\")\n",
    "        else:\n",
    "            print(f\"{key}: {value}\")"
   ]
  },
  {
   "cell_type": "markdown",
   "metadata": {},
   "source": [
    "## 2. 대량 종목 스크리닝"
   ]
  },
  {
   "cell_type": "code",
   "execution_count": 3,
   "metadata": {},
   "outputs": [
    {
     "name": "stderr",
     "output_type": "stream",
     "text": [
      "종목 스크리닝: 100%|██████████| 10/10 [00:50<00:00,  5.04s/it]"
     ]
    },
    {
     "name": "stdout",
     "output_type": "stream",
     "text": [
      "\n",
      "스크리닝 완료!\n",
      "분석 종목 수: 10\n"
     ]
    },
    {
     "name": "stderr",
     "output_type": "stream",
     "text": [
      "\n"
     ]
    }
   ],
   "source": [
    "def screen_stocks(tickers, start_date, end_date):\n",
    "    \"\"\"\n",
    "    여러 종목 CAN SLIM 스크리닝\n",
    "    \"\"\"\n",
    "    results = []\n",
    "    \n",
    "    for ticker in tqdm(tickers, desc=\"종목 스크리닝\"):\n",
    "        try:\n",
    "            analyzer = CANSLIMAnalyzer(ticker, start_date, end_date)\n",
    "            result = analyzer.analyze()\n",
    "            \n",
    "            if result:\n",
    "                results.append(result)\n",
    "            \n",
    "            time.sleep(0.5)  # API 제한 방지\n",
    "            \n",
    "        except Exception as e:\n",
    "            print(f\"\\nError with {ticker}: {e}\")\n",
    "            continue\n",
    "    \n",
    "    return pd.DataFrame(results)\n",
    "\n",
    "# 주요 대형주 스크리닝\n",
    "major_stocks = [\n",
    "    '005930',  # 삼성전자\n",
    "    '000660',  # SK하이닉스\n",
    "    '035420',  # 네이버\n",
    "    '035720',  # 카카오\n",
    "    '051910',  # LG화학\n",
    "    '006400',  # 삼성SDI\n",
    "    '005490',  # POSCO\n",
    "    '005380',  # 현대차\n",
    "    '000270',  # 기아\n",
    "    '068270',  # 셀트리온\n",
    "]\n",
    "\n",
    "screening_results = screen_stocks(major_stocks, start_str, end_str)\n",
    "print(\"\\n스크리닝 완료!\")\n",
    "print(f\"분석 종목 수: {len(screening_results)}\")"
   ]
  },
  {
   "cell_type": "markdown",
   "metadata": {},
   "source": [
    "## 3. 결과 분석 및 시각화"
   ]
  },
  {
   "cell_type": "code",
   "execution_count": 4,
   "metadata": {},
   "outputs": [
    {
     "name": "stdout",
     "output_type": "stream",
     "text": [
      "\n",
      "📊 CAN SLIM 종합 순위\n",
      "================================================================================\n",
      "    name  Total_Score  C_Score  A_Score  N_Score  L_Score  I_Score  EPS_Growth      ROE  52W_Ratio\n",
      "  SK하이닉스        60.75       25      100       50       50       75    0.000000 0.267882   0.893964\n",
      "   NAVER        56.75      100       50       30       50       25   90.692088 0.074301   0.778814\n",
      "      기아        53.75       25       85       50       25       75   12.292494 0.175535   0.942580\n",
      "    삼성전자        53.25      100        0       50       50       25  132.285312 0.085417   0.885298\n",
      "     현대차        51.25       25       70       30       50       75    4.183533 0.115132   0.825843\n",
      "     카카오        42.75       25        0       30       50       75    0.000000 0.005455   0.829609\n",
      "    LG화학        38.75        0        0        0      100       75 -100.000000 0.000000   0.746269\n",
      "POSCO홀딩스        27.50        0        0        0       25       75  -35.434724 0.019728   0.701643\n",
      "    셀트리온        27.50        0        0       50       25       25  -49.880287 0.024077   0.870130\n",
      "   삼성SDI        23.75        0        0        0       50       25  -70.799494 0.030316   0.521740\n",
      "\n",
      "✅ 투자 적합 종목 (점수 60 이상): 1개\n",
      "  - SK하이닉스 (000660): 60.8점\n"
     ]
    }
   ],
   "source": [
    "# 종합 점수 기준 정렬\n",
    "screening_results = screening_results.sort_values('Total_Score', ascending=False)\n",
    "\n",
    "print(\"\\n📊 CAN SLIM 종합 순위\")\n",
    "print(\"=\"*80)\n",
    "display_cols = ['name', 'Total_Score', 'C_Score', 'A_Score', 'N_Score', \n",
    "                'L_Score', 'I_Score', 'EPS_Growth', 'ROE', '52W_Ratio']\n",
    "print(screening_results[display_cols].to_string(index=False))\n",
    "\n",
    "# 상위 종목\n",
    "top_stocks = screening_results[screening_results['Total_Score'] >= 60]\n",
    "print(f\"\\n✅ 투자 적합 종목 (점수 60 이상): {len(top_stocks)}개\")\n",
    "for _, row in top_stocks.iterrows():\n",
    "    print(f\"  - {row['name']} ({row['ticker']}): {row['Total_Score']:.1f}점\")"
   ]
  },
  {
   "cell_type": "code",
   "execution_count": 5,
   "metadata": {},
   "outputs": [
    {
     "data": {
      "application/vnd.plotly.v1+json": {
       "config": {
        "plotlyServerURL": "https://plot.ly"
       },
       "data": [
        {
         "fill": "toself",
         "name": "SK하이닉스 (60.8)",
         "r": [
          25,
          100,
          50,
          70,
          50,
          75,
          75
         ],
         "theta": [
          "C",
          "A",
          "N",
          "S",
          "L",
          "I",
          "M"
         ],
         "type": "scatterpolar"
        },
        {
         "fill": "toself",
         "name": "NAVER (56.8)",
         "r": [
          100,
          50,
          30,
          60,
          50,
          25,
          75
         ],
         "theta": [
          "C",
          "A",
          "N",
          "S",
          "L",
          "I",
          "M"
         ],
         "type": "scatterpolar"
        },
        {
         "fill": "toself",
         "name": "기아 (53.8)",
         "r": [
          25,
          85,
          50,
          60,
          25,
          75,
          75
         ],
         "theta": [
          "C",
          "A",
          "N",
          "S",
          "L",
          "I",
          "M"
         ],
         "type": "scatterpolar"
        },
        {
         "fill": "toself",
         "name": "삼성전자 (53.2)",
         "r": [
          100,
          0,
          50,
          70,
          50,
          25,
          75
         ],
         "theta": [
          "C",
          "A",
          "N",
          "S",
          "L",
          "I",
          "M"
         ],
         "type": "scatterpolar"
        },
        {
         "fill": "toself",
         "name": "현대차 (51.2)",
         "r": [
          25,
          70,
          30,
          50,
          50,
          75,
          75
         ],
         "theta": [
          "C",
          "A",
          "N",
          "S",
          "L",
          "I",
          "M"
         ],
         "type": "scatterpolar"
        }
       ],
       "layout": {
        "height": 500,
        "polar": {
         "radialaxis": {
          "range": [
           0,
           100
          ],
          "visible": true
         }
        },
        "showlegend": true,
        "template": {
         "data": {
          "bar": [
           {
            "error_x": {
             "color": "#2a3f5f"
            },
            "error_y": {
             "color": "#2a3f5f"
            },
            "marker": {
             "line": {
              "color": "#E5ECF6",
              "width": 0.5
             },
             "pattern": {
              "fillmode": "overlay",
              "size": 10,
              "solidity": 0.2
             }
            },
            "type": "bar"
           }
          ],
          "barpolar": [
           {
            "marker": {
             "line": {
              "color": "#E5ECF6",
              "width": 0.5
             },
             "pattern": {
              "fillmode": "overlay",
              "size": 10,
              "solidity": 0.2
             }
            },
            "type": "barpolar"
           }
          ],
          "carpet": [
           {
            "aaxis": {
             "endlinecolor": "#2a3f5f",
             "gridcolor": "white",
             "linecolor": "white",
             "minorgridcolor": "white",
             "startlinecolor": "#2a3f5f"
            },
            "baxis": {
             "endlinecolor": "#2a3f5f",
             "gridcolor": "white",
             "linecolor": "white",
             "minorgridcolor": "white",
             "startlinecolor": "#2a3f5f"
            },
            "type": "carpet"
           }
          ],
          "choropleth": [
           {
            "colorbar": {
             "outlinewidth": 0,
             "ticks": ""
            },
            "type": "choropleth"
           }
          ],
          "contour": [
           {
            "colorbar": {
             "outlinewidth": 0,
             "ticks": ""
            },
            "colorscale": [
             [
              0,
              "#0d0887"
             ],
             [
              0.1111111111111111,
              "#46039f"
             ],
             [
              0.2222222222222222,
              "#7201a8"
             ],
             [
              0.3333333333333333,
              "#9c179e"
             ],
             [
              0.4444444444444444,
              "#bd3786"
             ],
             [
              0.5555555555555556,
              "#d8576b"
             ],
             [
              0.6666666666666666,
              "#ed7953"
             ],
             [
              0.7777777777777778,
              "#fb9f3a"
             ],
             [
              0.8888888888888888,
              "#fdca26"
             ],
             [
              1,
              "#f0f921"
             ]
            ],
            "type": "contour"
           }
          ],
          "contourcarpet": [
           {
            "colorbar": {
             "outlinewidth": 0,
             "ticks": ""
            },
            "type": "contourcarpet"
           }
          ],
          "heatmap": [
           {
            "colorbar": {
             "outlinewidth": 0,
             "ticks": ""
            },
            "colorscale": [
             [
              0,
              "#0d0887"
             ],
             [
              0.1111111111111111,
              "#46039f"
             ],
             [
              0.2222222222222222,
              "#7201a8"
             ],
             [
              0.3333333333333333,
              "#9c179e"
             ],
             [
              0.4444444444444444,
              "#bd3786"
             ],
             [
              0.5555555555555556,
              "#d8576b"
             ],
             [
              0.6666666666666666,
              "#ed7953"
             ],
             [
              0.7777777777777778,
              "#fb9f3a"
             ],
             [
              0.8888888888888888,
              "#fdca26"
             ],
             [
              1,
              "#f0f921"
             ]
            ],
            "type": "heatmap"
           }
          ],
          "histogram": [
           {
            "marker": {
             "pattern": {
              "fillmode": "overlay",
              "size": 10,
              "solidity": 0.2
             }
            },
            "type": "histogram"
           }
          ],
          "histogram2d": [
           {
            "colorbar": {
             "outlinewidth": 0,
             "ticks": ""
            },
            "colorscale": [
             [
              0,
              "#0d0887"
             ],
             [
              0.1111111111111111,
              "#46039f"
             ],
             [
              0.2222222222222222,
              "#7201a8"
             ],
             [
              0.3333333333333333,
              "#9c179e"
             ],
             [
              0.4444444444444444,
              "#bd3786"
             ],
             [
              0.5555555555555556,
              "#d8576b"
             ],
             [
              0.6666666666666666,
              "#ed7953"
             ],
             [
              0.7777777777777778,
              "#fb9f3a"
             ],
             [
              0.8888888888888888,
              "#fdca26"
             ],
             [
              1,
              "#f0f921"
             ]
            ],
            "type": "histogram2d"
           }
          ],
          "histogram2dcontour": [
           {
            "colorbar": {
             "outlinewidth": 0,
             "ticks": ""
            },
            "colorscale": [
             [
              0,
              "#0d0887"
             ],
             [
              0.1111111111111111,
              "#46039f"
             ],
             [
              0.2222222222222222,
              "#7201a8"
             ],
             [
              0.3333333333333333,
              "#9c179e"
             ],
             [
              0.4444444444444444,
              "#bd3786"
             ],
             [
              0.5555555555555556,
              "#d8576b"
             ],
             [
              0.6666666666666666,
              "#ed7953"
             ],
             [
              0.7777777777777778,
              "#fb9f3a"
             ],
             [
              0.8888888888888888,
              "#fdca26"
             ],
             [
              1,
              "#f0f921"
             ]
            ],
            "type": "histogram2dcontour"
           }
          ],
          "mesh3d": [
           {
            "colorbar": {
             "outlinewidth": 0,
             "ticks": ""
            },
            "type": "mesh3d"
           }
          ],
          "parcoords": [
           {
            "line": {
             "colorbar": {
              "outlinewidth": 0,
              "ticks": ""
             }
            },
            "type": "parcoords"
           }
          ],
          "pie": [
           {
            "automargin": true,
            "type": "pie"
           }
          ],
          "scatter": [
           {
            "fillpattern": {
             "fillmode": "overlay",
             "size": 10,
             "solidity": 0.2
            },
            "type": "scatter"
           }
          ],
          "scatter3d": [
           {
            "line": {
             "colorbar": {
              "outlinewidth": 0,
              "ticks": ""
             }
            },
            "marker": {
             "colorbar": {
              "outlinewidth": 0,
              "ticks": ""
             }
            },
            "type": "scatter3d"
           }
          ],
          "scattercarpet": [
           {
            "marker": {
             "colorbar": {
              "outlinewidth": 0,
              "ticks": ""
             }
            },
            "type": "scattercarpet"
           }
          ],
          "scattergeo": [
           {
            "marker": {
             "colorbar": {
              "outlinewidth": 0,
              "ticks": ""
             }
            },
            "type": "scattergeo"
           }
          ],
          "scattergl": [
           {
            "marker": {
             "colorbar": {
              "outlinewidth": 0,
              "ticks": ""
             }
            },
            "type": "scattergl"
           }
          ],
          "scattermap": [
           {
            "marker": {
             "colorbar": {
              "outlinewidth": 0,
              "ticks": ""
             }
            },
            "type": "scattermap"
           }
          ],
          "scattermapbox": [
           {
            "marker": {
             "colorbar": {
              "outlinewidth": 0,
              "ticks": ""
             }
            },
            "type": "scattermapbox"
           }
          ],
          "scatterpolar": [
           {
            "marker": {
             "colorbar": {
              "outlinewidth": 0,
              "ticks": ""
             }
            },
            "type": "scatterpolar"
           }
          ],
          "scatterpolargl": [
           {
            "marker": {
             "colorbar": {
              "outlinewidth": 0,
              "ticks": ""
             }
            },
            "type": "scatterpolargl"
           }
          ],
          "scatterternary": [
           {
            "marker": {
             "colorbar": {
              "outlinewidth": 0,
              "ticks": ""
             }
            },
            "type": "scatterternary"
           }
          ],
          "surface": [
           {
            "colorbar": {
             "outlinewidth": 0,
             "ticks": ""
            },
            "colorscale": [
             [
              0,
              "#0d0887"
             ],
             [
              0.1111111111111111,
              "#46039f"
             ],
             [
              0.2222222222222222,
              "#7201a8"
             ],
             [
              0.3333333333333333,
              "#9c179e"
             ],
             [
              0.4444444444444444,
              "#bd3786"
             ],
             [
              0.5555555555555556,
              "#d8576b"
             ],
             [
              0.6666666666666666,
              "#ed7953"
             ],
             [
              0.7777777777777778,
              "#fb9f3a"
             ],
             [
              0.8888888888888888,
              "#fdca26"
             ],
             [
              1,
              "#f0f921"
             ]
            ],
            "type": "surface"
           }
          ],
          "table": [
           {
            "cells": {
             "fill": {
              "color": "#EBF0F8"
             },
             "line": {
              "color": "white"
             }
            },
            "header": {
             "fill": {
              "color": "#C8D4E3"
             },
             "line": {
              "color": "white"
             }
            },
            "type": "table"
           }
          ]
         },
         "layout": {
          "annotationdefaults": {
           "arrowcolor": "#2a3f5f",
           "arrowhead": 0,
           "arrowwidth": 1
          },
          "autotypenumbers": "strict",
          "coloraxis": {
           "colorbar": {
            "outlinewidth": 0,
            "ticks": ""
           }
          },
          "colorscale": {
           "diverging": [
            [
             0,
             "#8e0152"
            ],
            [
             0.1,
             "#c51b7d"
            ],
            [
             0.2,
             "#de77ae"
            ],
            [
             0.3,
             "#f1b6da"
            ],
            [
             0.4,
             "#fde0ef"
            ],
            [
             0.5,
             "#f7f7f7"
            ],
            [
             0.6,
             "#e6f5d0"
            ],
            [
             0.7,
             "#b8e186"
            ],
            [
             0.8,
             "#7fbc41"
            ],
            [
             0.9,
             "#4d9221"
            ],
            [
             1,
             "#276419"
            ]
           ],
           "sequential": [
            [
             0,
             "#0d0887"
            ],
            [
             0.1111111111111111,
             "#46039f"
            ],
            [
             0.2222222222222222,
             "#7201a8"
            ],
            [
             0.3333333333333333,
             "#9c179e"
            ],
            [
             0.4444444444444444,
             "#bd3786"
            ],
            [
             0.5555555555555556,
             "#d8576b"
            ],
            [
             0.6666666666666666,
             "#ed7953"
            ],
            [
             0.7777777777777778,
             "#fb9f3a"
            ],
            [
             0.8888888888888888,
             "#fdca26"
            ],
            [
             1,
             "#f0f921"
            ]
           ],
           "sequentialminus": [
            [
             0,
             "#0d0887"
            ],
            [
             0.1111111111111111,
             "#46039f"
            ],
            [
             0.2222222222222222,
             "#7201a8"
            ],
            [
             0.3333333333333333,
             "#9c179e"
            ],
            [
             0.4444444444444444,
             "#bd3786"
            ],
            [
             0.5555555555555556,
             "#d8576b"
            ],
            [
             0.6666666666666666,
             "#ed7953"
            ],
            [
             0.7777777777777778,
             "#fb9f3a"
            ],
            [
             0.8888888888888888,
             "#fdca26"
            ],
            [
             1,
             "#f0f921"
            ]
           ]
          },
          "colorway": [
           "#636efa",
           "#EF553B",
           "#00cc96",
           "#ab63fa",
           "#FFA15A",
           "#19d3f3",
           "#FF6692",
           "#B6E880",
           "#FF97FF",
           "#FECB52"
          ],
          "font": {
           "color": "#2a3f5f"
          },
          "geo": {
           "bgcolor": "white",
           "lakecolor": "white",
           "landcolor": "#E5ECF6",
           "showlakes": true,
           "showland": true,
           "subunitcolor": "white"
          },
          "hoverlabel": {
           "align": "left"
          },
          "hovermode": "closest",
          "mapbox": {
           "style": "light"
          },
          "paper_bgcolor": "white",
          "plot_bgcolor": "#E5ECF6",
          "polar": {
           "angularaxis": {
            "gridcolor": "white",
            "linecolor": "white",
            "ticks": ""
           },
           "bgcolor": "#E5ECF6",
           "radialaxis": {
            "gridcolor": "white",
            "linecolor": "white",
            "ticks": ""
           }
          },
          "scene": {
           "xaxis": {
            "backgroundcolor": "#E5ECF6",
            "gridcolor": "white",
            "gridwidth": 2,
            "linecolor": "white",
            "showbackground": true,
            "ticks": "",
            "zerolinecolor": "white"
           },
           "yaxis": {
            "backgroundcolor": "#E5ECF6",
            "gridcolor": "white",
            "gridwidth": 2,
            "linecolor": "white",
            "showbackground": true,
            "ticks": "",
            "zerolinecolor": "white"
           },
           "zaxis": {
            "backgroundcolor": "#E5ECF6",
            "gridcolor": "white",
            "gridwidth": 2,
            "linecolor": "white",
            "showbackground": true,
            "ticks": "",
            "zerolinecolor": "white"
           }
          },
          "shapedefaults": {
           "line": {
            "color": "#2a3f5f"
           }
          },
          "ternary": {
           "aaxis": {
            "gridcolor": "white",
            "linecolor": "white",
            "ticks": ""
           },
           "baxis": {
            "gridcolor": "white",
            "linecolor": "white",
            "ticks": ""
           },
           "bgcolor": "#E5ECF6",
           "caxis": {
            "gridcolor": "white",
            "linecolor": "white",
            "ticks": ""
           }
          },
          "title": {
           "x": 0.05
          },
          "xaxis": {
           "automargin": true,
           "gridcolor": "white",
           "linecolor": "white",
           "ticks": "",
           "title": {
            "standoff": 15
           },
           "zerolinecolor": "white",
           "zerolinewidth": 2
          },
          "yaxis": {
           "automargin": true,
           "gridcolor": "white",
           "linecolor": "white",
           "ticks": "",
           "title": {
            "standoff": 15
           },
           "zerolinecolor": "white",
           "zerolinewidth": 2
          }
         }
        },
        "title": {
         "text": "CAN SLIM 지표 비교 (상위 5개 종목)"
        }
       }
      }
     },
     "metadata": {},
     "output_type": "display_data"
    }
   ],
   "source": [
    "# 레이더 차트로 시각화\n",
    "def create_radar_chart(df, top_n=5):\n",
    "    \"\"\"\n",
    "    상위 종목의 CAN SLIM 지표 레이더 차트\n",
    "    \"\"\"\n",
    "    categories = ['C', 'A', 'N', 'S', 'L', 'I', 'M']\n",
    "    \n",
    "    fig = go.Figure()\n",
    "    \n",
    "    for i in range(min(top_n, len(df))):\n",
    "        row = df.iloc[i]\n",
    "        values = [row[f'{cat}_Score'] for cat in categories]\n",
    "        \n",
    "        fig.add_trace(go.Scatterpolar(\n",
    "            r=values,\n",
    "            theta=categories,\n",
    "            fill='toself',\n",
    "            name=f\"{row['name']} ({row['Total_Score']:.1f})\"\n",
    "        ))\n",
    "    \n",
    "    fig.update_layout(\n",
    "        polar=dict(\n",
    "            radialaxis=dict(\n",
    "                visible=True,\n",
    "                range=[0, 100]\n",
    "            )\n",
    "        ),\n",
    "        showlegend=True,\n",
    "        title=\"CAN SLIM 지표 비교 (상위 5개 종목)\",\n",
    "        height=500\n",
    "    )\n",
    "    \n",
    "    return fig\n",
    "\n",
    "# 레이더 차트 생성\n",
    "radar_fig = create_radar_chart(screening_results)\n",
    "radar_fig.show()"
   ]
  },
  {
   "cell_type": "code",
   "execution_count": 6,
   "metadata": {},
   "outputs": [
    {
     "data": {
      "application/vnd.plotly.v1+json": {
       "config": {
        "plotlyServerURL": "https://plot.ly"
       },
       "data": [
        {
         "coloraxis": "coloraxis",
         "hovertemplate": "종목: %{x}<br>지표: %{y}<br>점수: %{z}<extra></extra>",
         "name": "0",
         "type": "heatmap",
         "x": [
          "SK하이닉스",
          "NAVER",
          "기아",
          "삼성전자",
          "현대차",
          "카카오",
          "LG화학",
          "POSCO홀딩스",
          "셀트리온",
          "삼성SDI"
         ],
         "xaxis": "x",
         "y": [
          "C",
          "A",
          "N",
          "S",
          "L",
          "I",
          "M"
         ],
         "yaxis": "y",
         "z": {
          "bdata": "GWQZZBkZAAAAAGQyVQBGAAAAAAAyHjIyHh4AADIARjw8RjJGMjIyMjIyGTIyMmQZGTJLGUsZS0tLSxkZS0tLS0tLS0tLSw==",
          "dtype": "i1",
          "shape": "7, 10"
         }
        }
       ],
       "layout": {
        "coloraxis": {
         "colorbar": {
          "title": {
           "text": "점수"
          }
         },
         "colorscale": [
          [
           0,
           "rgb(165,0,38)"
          ],
          [
           0.1,
           "rgb(215,48,39)"
          ],
          [
           0.2,
           "rgb(244,109,67)"
          ],
          [
           0.3,
           "rgb(253,174,97)"
          ],
          [
           0.4,
           "rgb(254,224,139)"
          ],
          [
           0.5,
           "rgb(255,255,191)"
          ],
          [
           0.6,
           "rgb(217,239,139)"
          ],
          [
           0.7,
           "rgb(166,217,106)"
          ],
          [
           0.8,
           "rgb(102,189,99)"
          ],
          [
           0.9,
           "rgb(26,152,80)"
          ],
          [
           1,
           "rgb(0,104,55)"
          ]
         ]
        },
        "height": 400,
        "template": {
         "data": {
          "bar": [
           {
            "error_x": {
             "color": "#2a3f5f"
            },
            "error_y": {
             "color": "#2a3f5f"
            },
            "marker": {
             "line": {
              "color": "#E5ECF6",
              "width": 0.5
             },
             "pattern": {
              "fillmode": "overlay",
              "size": 10,
              "solidity": 0.2
             }
            },
            "type": "bar"
           }
          ],
          "barpolar": [
           {
            "marker": {
             "line": {
              "color": "#E5ECF6",
              "width": 0.5
             },
             "pattern": {
              "fillmode": "overlay",
              "size": 10,
              "solidity": 0.2
             }
            },
            "type": "barpolar"
           }
          ],
          "carpet": [
           {
            "aaxis": {
             "endlinecolor": "#2a3f5f",
             "gridcolor": "white",
             "linecolor": "white",
             "minorgridcolor": "white",
             "startlinecolor": "#2a3f5f"
            },
            "baxis": {
             "endlinecolor": "#2a3f5f",
             "gridcolor": "white",
             "linecolor": "white",
             "minorgridcolor": "white",
             "startlinecolor": "#2a3f5f"
            },
            "type": "carpet"
           }
          ],
          "choropleth": [
           {
            "colorbar": {
             "outlinewidth": 0,
             "ticks": ""
            },
            "type": "choropleth"
           }
          ],
          "contour": [
           {
            "colorbar": {
             "outlinewidth": 0,
             "ticks": ""
            },
            "colorscale": [
             [
              0,
              "#0d0887"
             ],
             [
              0.1111111111111111,
              "#46039f"
             ],
             [
              0.2222222222222222,
              "#7201a8"
             ],
             [
              0.3333333333333333,
              "#9c179e"
             ],
             [
              0.4444444444444444,
              "#bd3786"
             ],
             [
              0.5555555555555556,
              "#d8576b"
             ],
             [
              0.6666666666666666,
              "#ed7953"
             ],
             [
              0.7777777777777778,
              "#fb9f3a"
             ],
             [
              0.8888888888888888,
              "#fdca26"
             ],
             [
              1,
              "#f0f921"
             ]
            ],
            "type": "contour"
           }
          ],
          "contourcarpet": [
           {
            "colorbar": {
             "outlinewidth": 0,
             "ticks": ""
            },
            "type": "contourcarpet"
           }
          ],
          "heatmap": [
           {
            "colorbar": {
             "outlinewidth": 0,
             "ticks": ""
            },
            "colorscale": [
             [
              0,
              "#0d0887"
             ],
             [
              0.1111111111111111,
              "#46039f"
             ],
             [
              0.2222222222222222,
              "#7201a8"
             ],
             [
              0.3333333333333333,
              "#9c179e"
             ],
             [
              0.4444444444444444,
              "#bd3786"
             ],
             [
              0.5555555555555556,
              "#d8576b"
             ],
             [
              0.6666666666666666,
              "#ed7953"
             ],
             [
              0.7777777777777778,
              "#fb9f3a"
             ],
             [
              0.8888888888888888,
              "#fdca26"
             ],
             [
              1,
              "#f0f921"
             ]
            ],
            "type": "heatmap"
           }
          ],
          "histogram": [
           {
            "marker": {
             "pattern": {
              "fillmode": "overlay",
              "size": 10,
              "solidity": 0.2
             }
            },
            "type": "histogram"
           }
          ],
          "histogram2d": [
           {
            "colorbar": {
             "outlinewidth": 0,
             "ticks": ""
            },
            "colorscale": [
             [
              0,
              "#0d0887"
             ],
             [
              0.1111111111111111,
              "#46039f"
             ],
             [
              0.2222222222222222,
              "#7201a8"
             ],
             [
              0.3333333333333333,
              "#9c179e"
             ],
             [
              0.4444444444444444,
              "#bd3786"
             ],
             [
              0.5555555555555556,
              "#d8576b"
             ],
             [
              0.6666666666666666,
              "#ed7953"
             ],
             [
              0.7777777777777778,
              "#fb9f3a"
             ],
             [
              0.8888888888888888,
              "#fdca26"
             ],
             [
              1,
              "#f0f921"
             ]
            ],
            "type": "histogram2d"
           }
          ],
          "histogram2dcontour": [
           {
            "colorbar": {
             "outlinewidth": 0,
             "ticks": ""
            },
            "colorscale": [
             [
              0,
              "#0d0887"
             ],
             [
              0.1111111111111111,
              "#46039f"
             ],
             [
              0.2222222222222222,
              "#7201a8"
             ],
             [
              0.3333333333333333,
              "#9c179e"
             ],
             [
              0.4444444444444444,
              "#bd3786"
             ],
             [
              0.5555555555555556,
              "#d8576b"
             ],
             [
              0.6666666666666666,
              "#ed7953"
             ],
             [
              0.7777777777777778,
              "#fb9f3a"
             ],
             [
              0.8888888888888888,
              "#fdca26"
             ],
             [
              1,
              "#f0f921"
             ]
            ],
            "type": "histogram2dcontour"
           }
          ],
          "mesh3d": [
           {
            "colorbar": {
             "outlinewidth": 0,
             "ticks": ""
            },
            "type": "mesh3d"
           }
          ],
          "parcoords": [
           {
            "line": {
             "colorbar": {
              "outlinewidth": 0,
              "ticks": ""
             }
            },
            "type": "parcoords"
           }
          ],
          "pie": [
           {
            "automargin": true,
            "type": "pie"
           }
          ],
          "scatter": [
           {
            "fillpattern": {
             "fillmode": "overlay",
             "size": 10,
             "solidity": 0.2
            },
            "type": "scatter"
           }
          ],
          "scatter3d": [
           {
            "line": {
             "colorbar": {
              "outlinewidth": 0,
              "ticks": ""
             }
            },
            "marker": {
             "colorbar": {
              "outlinewidth": 0,
              "ticks": ""
             }
            },
            "type": "scatter3d"
           }
          ],
          "scattercarpet": [
           {
            "marker": {
             "colorbar": {
              "outlinewidth": 0,
              "ticks": ""
             }
            },
            "type": "scattercarpet"
           }
          ],
          "scattergeo": [
           {
            "marker": {
             "colorbar": {
              "outlinewidth": 0,
              "ticks": ""
             }
            },
            "type": "scattergeo"
           }
          ],
          "scattergl": [
           {
            "marker": {
             "colorbar": {
              "outlinewidth": 0,
              "ticks": ""
             }
            },
            "type": "scattergl"
           }
          ],
          "scattermap": [
           {
            "marker": {
             "colorbar": {
              "outlinewidth": 0,
              "ticks": ""
             }
            },
            "type": "scattermap"
           }
          ],
          "scattermapbox": [
           {
            "marker": {
             "colorbar": {
              "outlinewidth": 0,
              "ticks": ""
             }
            },
            "type": "scattermapbox"
           }
          ],
          "scatterpolar": [
           {
            "marker": {
             "colorbar": {
              "outlinewidth": 0,
              "ticks": ""
             }
            },
            "type": "scatterpolar"
           }
          ],
          "scatterpolargl": [
           {
            "marker": {
             "colorbar": {
              "outlinewidth": 0,
              "ticks": ""
             }
            },
            "type": "scatterpolargl"
           }
          ],
          "scatterternary": [
           {
            "marker": {
             "colorbar": {
              "outlinewidth": 0,
              "ticks": ""
             }
            },
            "type": "scatterternary"
           }
          ],
          "surface": [
           {
            "colorbar": {
             "outlinewidth": 0,
             "ticks": ""
            },
            "colorscale": [
             [
              0,
              "#0d0887"
             ],
             [
              0.1111111111111111,
              "#46039f"
             ],
             [
              0.2222222222222222,
              "#7201a8"
             ],
             [
              0.3333333333333333,
              "#9c179e"
             ],
             [
              0.4444444444444444,
              "#bd3786"
             ],
             [
              0.5555555555555556,
              "#d8576b"
             ],
             [
              0.6666666666666666,
              "#ed7953"
             ],
             [
              0.7777777777777778,
              "#fb9f3a"
             ],
             [
              0.8888888888888888,
              "#fdca26"
             ],
             [
              1,
              "#f0f921"
             ]
            ],
            "type": "surface"
           }
          ],
          "table": [
           {
            "cells": {
             "fill": {
              "color": "#EBF0F8"
             },
             "line": {
              "color": "white"
             }
            },
            "header": {
             "fill": {
              "color": "#C8D4E3"
             },
             "line": {
              "color": "white"
             }
            },
            "type": "table"
           }
          ]
         },
         "layout": {
          "annotationdefaults": {
           "arrowcolor": "#2a3f5f",
           "arrowhead": 0,
           "arrowwidth": 1
          },
          "autotypenumbers": "strict",
          "coloraxis": {
           "colorbar": {
            "outlinewidth": 0,
            "ticks": ""
           }
          },
          "colorscale": {
           "diverging": [
            [
             0,
             "#8e0152"
            ],
            [
             0.1,
             "#c51b7d"
            ],
            [
             0.2,
             "#de77ae"
            ],
            [
             0.3,
             "#f1b6da"
            ],
            [
             0.4,
             "#fde0ef"
            ],
            [
             0.5,
             "#f7f7f7"
            ],
            [
             0.6,
             "#e6f5d0"
            ],
            [
             0.7,
             "#b8e186"
            ],
            [
             0.8,
             "#7fbc41"
            ],
            [
             0.9,
             "#4d9221"
            ],
            [
             1,
             "#276419"
            ]
           ],
           "sequential": [
            [
             0,
             "#0d0887"
            ],
            [
             0.1111111111111111,
             "#46039f"
            ],
            [
             0.2222222222222222,
             "#7201a8"
            ],
            [
             0.3333333333333333,
             "#9c179e"
            ],
            [
             0.4444444444444444,
             "#bd3786"
            ],
            [
             0.5555555555555556,
             "#d8576b"
            ],
            [
             0.6666666666666666,
             "#ed7953"
            ],
            [
             0.7777777777777778,
             "#fb9f3a"
            ],
            [
             0.8888888888888888,
             "#fdca26"
            ],
            [
             1,
             "#f0f921"
            ]
           ],
           "sequentialminus": [
            [
             0,
             "#0d0887"
            ],
            [
             0.1111111111111111,
             "#46039f"
            ],
            [
             0.2222222222222222,
             "#7201a8"
            ],
            [
             0.3333333333333333,
             "#9c179e"
            ],
            [
             0.4444444444444444,
             "#bd3786"
            ],
            [
             0.5555555555555556,
             "#d8576b"
            ],
            [
             0.6666666666666666,
             "#ed7953"
            ],
            [
             0.7777777777777778,
             "#fb9f3a"
            ],
            [
             0.8888888888888888,
             "#fdca26"
            ],
            [
             1,
             "#f0f921"
            ]
           ]
          },
          "colorway": [
           "#636efa",
           "#EF553B",
           "#00cc96",
           "#ab63fa",
           "#FFA15A",
           "#19d3f3",
           "#FF6692",
           "#B6E880",
           "#FF97FF",
           "#FECB52"
          ],
          "font": {
           "color": "#2a3f5f"
          },
          "geo": {
           "bgcolor": "white",
           "lakecolor": "white",
           "landcolor": "#E5ECF6",
           "showlakes": true,
           "showland": true,
           "subunitcolor": "white"
          },
          "hoverlabel": {
           "align": "left"
          },
          "hovermode": "closest",
          "mapbox": {
           "style": "light"
          },
          "paper_bgcolor": "white",
          "plot_bgcolor": "#E5ECF6",
          "polar": {
           "angularaxis": {
            "gridcolor": "white",
            "linecolor": "white",
            "ticks": ""
           },
           "bgcolor": "#E5ECF6",
           "radialaxis": {
            "gridcolor": "white",
            "linecolor": "white",
            "ticks": ""
           }
          },
          "scene": {
           "xaxis": {
            "backgroundcolor": "#E5ECF6",
            "gridcolor": "white",
            "gridwidth": 2,
            "linecolor": "white",
            "showbackground": true,
            "ticks": "",
            "zerolinecolor": "white"
           },
           "yaxis": {
            "backgroundcolor": "#E5ECF6",
            "gridcolor": "white",
            "gridwidth": 2,
            "linecolor": "white",
            "showbackground": true,
            "ticks": "",
            "zerolinecolor": "white"
           },
           "zaxis": {
            "backgroundcolor": "#E5ECF6",
            "gridcolor": "white",
            "gridwidth": 2,
            "linecolor": "white",
            "showbackground": true,
            "ticks": "",
            "zerolinecolor": "white"
           }
          },
          "shapedefaults": {
           "line": {
            "color": "#2a3f5f"
           }
          },
          "ternary": {
           "aaxis": {
            "gridcolor": "white",
            "linecolor": "white",
            "ticks": ""
           },
           "baxis": {
            "gridcolor": "white",
            "linecolor": "white",
            "ticks": ""
           },
           "bgcolor": "#E5ECF6",
           "caxis": {
            "gridcolor": "white",
            "linecolor": "white",
            "ticks": ""
           }
          },
          "title": {
           "x": 0.05
          },
          "xaxis": {
           "automargin": true,
           "gridcolor": "white",
           "linecolor": "white",
           "ticks": "",
           "title": {
            "standoff": 15
           },
           "zerolinecolor": "white",
           "zerolinewidth": 2
          },
          "yaxis": {
           "automargin": true,
           "gridcolor": "white",
           "linecolor": "white",
           "ticks": "",
           "title": {
            "standoff": 15
           },
           "zerolinecolor": "white",
           "zerolinewidth": 2
          }
         }
        },
        "title": {
         "text": "CAN SLIM 지표별 점수 히트맵"
        },
        "xaxis": {
         "anchor": "y",
         "domain": [
          0,
          1
         ],
         "title": {
          "text": "종목"
         }
        },
        "yaxis": {
         "anchor": "x",
         "autorange": "reversed",
         "domain": [
          0,
          1
         ],
         "title": {
          "text": "지표"
         }
        }
       }
      }
     },
     "metadata": {},
     "output_type": "display_data"
    }
   ],
   "source": [
    "# 히트맵으로 전체 점수 표시\n",
    "def create_heatmap(df):\n",
    "    \"\"\"\n",
    "    전체 종목의 CAN SLIM 점수 히트맵\n",
    "    \"\"\"\n",
    "    score_cols = ['C_Score', 'A_Score', 'N_Score', 'S_Score', \n",
    "                  'L_Score', 'I_Score', 'M_Score']\n",
    "    \n",
    "    heatmap_data = df[score_cols].T\n",
    "    heatmap_data.columns = df['name'].values\n",
    "    \n",
    "    fig = px.imshow(\n",
    "        heatmap_data,\n",
    "        labels=dict(x=\"종목\", y=\"지표\", color=\"점수\"),\n",
    "        x=heatmap_data.columns,\n",
    "        y=['C', 'A', 'N', 'S', 'L', 'I', 'M'],\n",
    "        color_continuous_scale='RdYlGn',\n",
    "        aspect=\"auto\",\n",
    "        title=\"CAN SLIM 지표별 점수 히트맵\"\n",
    "    )\n",
    "    \n",
    "    fig.update_layout(height=400)\n",
    "    return fig\n",
    "\n",
    "heatmap_fig = create_heatmap(screening_results)\n",
    "heatmap_fig.show()"
   ]
  },
  {
   "cell_type": "markdown",
   "metadata": {},
   "source": [
    "## 4. 투자 포트폴리오 구성"
   ]
  },
  {
   "cell_type": "code",
   "execution_count": 7,
   "metadata": {},
   "outputs": [
    {
     "name": "stdout",
     "output_type": "stream",
     "text": [
      "\n",
      "💼 추천 포트폴리오\n",
      "============================================================\n",
      "SK하이닉스          (000660): 100.0% | 점수: 60.8\n",
      "\n",
      "포트폴리오 종목 수: 1\n",
      "평균 CAN SLIM 점수: 60.8\n"
     ]
    }
   ],
   "source": [
    "def create_portfolio(screening_df, min_score=60, max_stocks=10):\n",
    "    \"\"\"\n",
    "    CAN SLIM 기준으로 포트폴리오 구성\n",
    "    \"\"\"\n",
    "    # 기준 충족 종목 필터링\n",
    "    qualified = screening_df[screening_df['Total_Score'] >= min_score].copy()\n",
    "    \n",
    "    # 상위 종목 선택\n",
    "    portfolio = qualified.head(max_stocks)\n",
    "    \n",
    "    # 가중치 계산 (점수 기반)\n",
    "    total_score = portfolio['Total_Score'].sum()\n",
    "    portfolio['Weight'] = portfolio['Total_Score'] / total_score\n",
    "    \n",
    "    # 리스크 분산을 위한 최대 가중치 제한\n",
    "    max_weight = 0.25\n",
    "    portfolio['Adjusted_Weight'] = portfolio['Weight'].clip(upper=max_weight)\n",
    "    portfolio['Adjusted_Weight'] = portfolio['Adjusted_Weight'] / portfolio['Adjusted_Weight'].sum()\n",
    "    \n",
    "    return portfolio\n",
    "\n",
    "# 포트폴리오 생성\n",
    "portfolio = create_portfolio(screening_results)\n",
    "\n",
    "print(\"\\n💼 추천 포트폴리오\")\n",
    "print(\"=\"*60)\n",
    "for _, row in portfolio.iterrows():\n",
    "    print(f\"{row['name']:15} ({row['ticker']}): {row['Adjusted_Weight']*100:5.1f}% | 점수: {row['Total_Score']:.1f}\")\n",
    "\n",
    "print(f\"\\n포트폴리오 종목 수: {len(portfolio)}\")\n",
    "print(f\"평균 CAN SLIM 점수: {portfolio['Total_Score'].mean():.1f}\")"
   ]
  },
  {
   "cell_type": "markdown",
   "metadata": {},
   "source": [
    "## 5. 백테스팅 프레임워크"
   ]
  },
  {
   "cell_type": "code",
   "execution_count": 8,
   "metadata": {},
   "outputs": [
    {
     "name": "stdout",
     "output_type": "stream",
     "text": [
      "\n",
      "📈 백테스팅 결과 (최근 6개월)\n",
      "==================================================\n",
      "  name  weight    return  weighted_return\n",
      "SK하이닉스     1.0 45.822246        45.822246\n",
      "\n",
      "포트폴리오 수익률: 45.82%\n",
      "KOSPI 수익률: 24.78%\n",
      "초과 수익률: 21.04%\n"
     ]
    }
   ],
   "source": [
    "def backtest_strategy(portfolio_df, start_date, end_date):\n",
    "    \"\"\"\n",
    "    간단한 백테스팅\n",
    "    \"\"\"\n",
    "    returns = []\n",
    "    \n",
    "    for _, row in portfolio_df.iterrows():\n",
    "        try:\n",
    "            # 주가 데이터\n",
    "            price_data = stock.get_market_ohlcv_by_date(start_date, end_date, row['ticker'])\n",
    "            \n",
    "            if not price_data.empty:\n",
    "                # 단순 Buy & Hold 수익률\n",
    "                start_price = price_data['종가'].iloc[0]\n",
    "                end_price = price_data['종가'].iloc[-1]\n",
    "                stock_return = (end_price / start_price - 1) * 100\n",
    "                \n",
    "                returns.append({\n",
    "                    'ticker': row['ticker'],\n",
    "                    'name': row['name'],\n",
    "                    'weight': row['Adjusted_Weight'],\n",
    "                    'return': stock_return,\n",
    "                    'weighted_return': stock_return * row['Adjusted_Weight']\n",
    "                })\n",
    "        except:\n",
    "            continue\n",
    "    \n",
    "    returns_df = pd.DataFrame(returns)\n",
    "    portfolio_return = returns_df['weighted_return'].sum()\n",
    "    \n",
    "    # KOSPI 벤치마크\n",
    "    kospi = stock.get_index_ohlcv_by_date(start_date, end_date, '1001')\n",
    "    kospi_return = (kospi['종가'].iloc[-1] / kospi['종가'].iloc[0] - 1) * 100\n",
    "    \n",
    "    print(\"\\n📈 백테스팅 결과 (최근 6개월)\")\n",
    "    print(\"=\"*50)\n",
    "    print(returns_df[['name', 'weight', 'return', 'weighted_return']].to_string(index=False))\n",
    "    print(f\"\\n포트폴리오 수익률: {portfolio_return:.2f}%\")\n",
    "    print(f\"KOSPI 수익률: {kospi_return:.2f}%\")\n",
    "    print(f\"초과 수익률: {portfolio_return - kospi_return:.2f}%\")\n",
    "    \n",
    "    return returns_df\n",
    "\n",
    "# 백테스팅 실행 (최근 6개월)\n",
    "backtest_start = (datetime.now() - timedelta(days=180)).strftime('%Y%m%d')\n",
    "backtest_end = end_str\n",
    "\n",
    "if len(portfolio) > 0:\n",
    "    backtest_results = backtest_strategy(portfolio, backtest_start, backtest_end)"
   ]
  },
  {
   "cell_type": "markdown",
   "metadata": {},
   "source": [
    "## 6. 실시간 모니터링 대시보드"
   ]
  },
  {
   "cell_type": "code",
   "execution_count": 9,
   "metadata": {},
   "outputs": [
    {
     "data": {
      "application/vnd.plotly.v1+json": {
       "config": {
        "plotlyServerURL": "https://plot.ly"
       },
       "data": [
        {
         "domain": {
          "x": [
           0,
           0.45
          ],
          "y": [
           0.625,
           1
          ]
         },
         "hole": 0.3,
         "labels": [
          "SK하이닉스"
         ],
         "type": "pie",
         "values": {
          "bdata": "AAAAAAAA8D8=",
          "dtype": "f8"
         }
        },
        {
         "marker": {
          "color": "lightgreen"
         },
         "type": "bar",
         "x": [
          "SK하이닉스"
         ],
         "xaxis": "x",
         "y": {
          "bdata": "AAAAAABgTkA=",
          "dtype": "f8"
         },
         "yaxis": "y"
        },
        {
         "marker": {
          "color": {
           "bdata": "AAAAAABgTkA=",
           "dtype": "f8"
          },
          "colorscale": [
           [
            0,
            "#440154"
           ],
           [
            0.1111111111111111,
            "#482878"
           ],
           [
            0.2222222222222222,
            "#3e4989"
           ],
           [
            0.3333333333333333,
            "#31688e"
           ],
           [
            0.4444444444444444,
            "#26828e"
           ],
           [
            0.5555555555555556,
            "#1f9e89"
           ],
           [
            0.6666666666666666,
            "#35b779"
           ],
           [
            0.7777777777777778,
            "#6ece58"
           ],
           [
            0.8888888888888888,
            "#b5de2b"
           ],
           [
            1,
            "#fde725"
           ]
          ],
          "size": {
           "bdata": "AAAAAABgPkA=",
           "dtype": "f8"
          }
         },
         "mode": "markers+text",
         "text": [
          "SK하이닉스"
         ],
         "textposition": "top center",
         "type": "scatter",
         "x": {
          "bdata": "AAAAAAAAAAA=",
          "dtype": "f8"
         },
         "xaxis": "x2",
         "y": {
          "bdata": "+G/obfwk0T8=",
          "dtype": "f8"
         },
         "yaxis": "y2"
        },
        {
         "marker": {
          "color": "lightcoral"
         },
         "type": "bar",
         "x": [
          "SK하이닉스"
         ],
         "xaxis": "x3",
         "y": {
          "bdata": "17mHn1qb7D8=",
          "dtype": "f8"
         },
         "yaxis": "y3"
        }
       ],
       "layout": {
        "annotations": [
         {
          "font": {
           "size": 16
          },
          "showarrow": false,
          "text": "포트폴리오 구성",
          "x": 0.225,
          "xanchor": "center",
          "xref": "paper",
          "y": 1,
          "yanchor": "bottom",
          "yref": "paper"
         },
         {
          "font": {
           "size": 16
          },
          "showarrow": false,
          "text": "CAN SLIM 점수 분포",
          "x": 0.775,
          "xanchor": "center",
          "xref": "paper",
          "y": 1,
          "yanchor": "bottom",
          "yref": "paper"
         },
         {
          "font": {
           "size": 16
          },
          "showarrow": false,
          "text": "주요 지표",
          "x": 0.225,
          "xanchor": "center",
          "xref": "paper",
          "y": 0.375,
          "yanchor": "bottom",
          "yref": "paper"
         },
         {
          "font": {
           "size": 16
          },
          "showarrow": false,
          "text": "리스크 지표",
          "x": 0.775,
          "xanchor": "center",
          "xref": "paper",
          "y": 0.375,
          "yanchor": "bottom",
          "yref": "paper"
         }
        ],
        "height": 800,
        "showlegend": false,
        "template": {
         "data": {
          "bar": [
           {
            "error_x": {
             "color": "#2a3f5f"
            },
            "error_y": {
             "color": "#2a3f5f"
            },
            "marker": {
             "line": {
              "color": "#E5ECF6",
              "width": 0.5
             },
             "pattern": {
              "fillmode": "overlay",
              "size": 10,
              "solidity": 0.2
             }
            },
            "type": "bar"
           }
          ],
          "barpolar": [
           {
            "marker": {
             "line": {
              "color": "#E5ECF6",
              "width": 0.5
             },
             "pattern": {
              "fillmode": "overlay",
              "size": 10,
              "solidity": 0.2
             }
            },
            "type": "barpolar"
           }
          ],
          "carpet": [
           {
            "aaxis": {
             "endlinecolor": "#2a3f5f",
             "gridcolor": "white",
             "linecolor": "white",
             "minorgridcolor": "white",
             "startlinecolor": "#2a3f5f"
            },
            "baxis": {
             "endlinecolor": "#2a3f5f",
             "gridcolor": "white",
             "linecolor": "white",
             "minorgridcolor": "white",
             "startlinecolor": "#2a3f5f"
            },
            "type": "carpet"
           }
          ],
          "choropleth": [
           {
            "colorbar": {
             "outlinewidth": 0,
             "ticks": ""
            },
            "type": "choropleth"
           }
          ],
          "contour": [
           {
            "colorbar": {
             "outlinewidth": 0,
             "ticks": ""
            },
            "colorscale": [
             [
              0,
              "#0d0887"
             ],
             [
              0.1111111111111111,
              "#46039f"
             ],
             [
              0.2222222222222222,
              "#7201a8"
             ],
             [
              0.3333333333333333,
              "#9c179e"
             ],
             [
              0.4444444444444444,
              "#bd3786"
             ],
             [
              0.5555555555555556,
              "#d8576b"
             ],
             [
              0.6666666666666666,
              "#ed7953"
             ],
             [
              0.7777777777777778,
              "#fb9f3a"
             ],
             [
              0.8888888888888888,
              "#fdca26"
             ],
             [
              1,
              "#f0f921"
             ]
            ],
            "type": "contour"
           }
          ],
          "contourcarpet": [
           {
            "colorbar": {
             "outlinewidth": 0,
             "ticks": ""
            },
            "type": "contourcarpet"
           }
          ],
          "heatmap": [
           {
            "colorbar": {
             "outlinewidth": 0,
             "ticks": ""
            },
            "colorscale": [
             [
              0,
              "#0d0887"
             ],
             [
              0.1111111111111111,
              "#46039f"
             ],
             [
              0.2222222222222222,
              "#7201a8"
             ],
             [
              0.3333333333333333,
              "#9c179e"
             ],
             [
              0.4444444444444444,
              "#bd3786"
             ],
             [
              0.5555555555555556,
              "#d8576b"
             ],
             [
              0.6666666666666666,
              "#ed7953"
             ],
             [
              0.7777777777777778,
              "#fb9f3a"
             ],
             [
              0.8888888888888888,
              "#fdca26"
             ],
             [
              1,
              "#f0f921"
             ]
            ],
            "type": "heatmap"
           }
          ],
          "histogram": [
           {
            "marker": {
             "pattern": {
              "fillmode": "overlay",
              "size": 10,
              "solidity": 0.2
             }
            },
            "type": "histogram"
           }
          ],
          "histogram2d": [
           {
            "colorbar": {
             "outlinewidth": 0,
             "ticks": ""
            },
            "colorscale": [
             [
              0,
              "#0d0887"
             ],
             [
              0.1111111111111111,
              "#46039f"
             ],
             [
              0.2222222222222222,
              "#7201a8"
             ],
             [
              0.3333333333333333,
              "#9c179e"
             ],
             [
              0.4444444444444444,
              "#bd3786"
             ],
             [
              0.5555555555555556,
              "#d8576b"
             ],
             [
              0.6666666666666666,
              "#ed7953"
             ],
             [
              0.7777777777777778,
              "#fb9f3a"
             ],
             [
              0.8888888888888888,
              "#fdca26"
             ],
             [
              1,
              "#f0f921"
             ]
            ],
            "type": "histogram2d"
           }
          ],
          "histogram2dcontour": [
           {
            "colorbar": {
             "outlinewidth": 0,
             "ticks": ""
            },
            "colorscale": [
             [
              0,
              "#0d0887"
             ],
             [
              0.1111111111111111,
              "#46039f"
             ],
             [
              0.2222222222222222,
              "#7201a8"
             ],
             [
              0.3333333333333333,
              "#9c179e"
             ],
             [
              0.4444444444444444,
              "#bd3786"
             ],
             [
              0.5555555555555556,
              "#d8576b"
             ],
             [
              0.6666666666666666,
              "#ed7953"
             ],
             [
              0.7777777777777778,
              "#fb9f3a"
             ],
             [
              0.8888888888888888,
              "#fdca26"
             ],
             [
              1,
              "#f0f921"
             ]
            ],
            "type": "histogram2dcontour"
           }
          ],
          "mesh3d": [
           {
            "colorbar": {
             "outlinewidth": 0,
             "ticks": ""
            },
            "type": "mesh3d"
           }
          ],
          "parcoords": [
           {
            "line": {
             "colorbar": {
              "outlinewidth": 0,
              "ticks": ""
             }
            },
            "type": "parcoords"
           }
          ],
          "pie": [
           {
            "automargin": true,
            "type": "pie"
           }
          ],
          "scatter": [
           {
            "fillpattern": {
             "fillmode": "overlay",
             "size": 10,
             "solidity": 0.2
            },
            "type": "scatter"
           }
          ],
          "scatter3d": [
           {
            "line": {
             "colorbar": {
              "outlinewidth": 0,
              "ticks": ""
             }
            },
            "marker": {
             "colorbar": {
              "outlinewidth": 0,
              "ticks": ""
             }
            },
            "type": "scatter3d"
           }
          ],
          "scattercarpet": [
           {
            "marker": {
             "colorbar": {
              "outlinewidth": 0,
              "ticks": ""
             }
            },
            "type": "scattercarpet"
           }
          ],
          "scattergeo": [
           {
            "marker": {
             "colorbar": {
              "outlinewidth": 0,
              "ticks": ""
             }
            },
            "type": "scattergeo"
           }
          ],
          "scattergl": [
           {
            "marker": {
             "colorbar": {
              "outlinewidth": 0,
              "ticks": ""
             }
            },
            "type": "scattergl"
           }
          ],
          "scattermap": [
           {
            "marker": {
             "colorbar": {
              "outlinewidth": 0,
              "ticks": ""
             }
            },
            "type": "scattermap"
           }
          ],
          "scattermapbox": [
           {
            "marker": {
             "colorbar": {
              "outlinewidth": 0,
              "ticks": ""
             }
            },
            "type": "scattermapbox"
           }
          ],
          "scatterpolar": [
           {
            "marker": {
             "colorbar": {
              "outlinewidth": 0,
              "ticks": ""
             }
            },
            "type": "scatterpolar"
           }
          ],
          "scatterpolargl": [
           {
            "marker": {
             "colorbar": {
              "outlinewidth": 0,
              "ticks": ""
             }
            },
            "type": "scatterpolargl"
           }
          ],
          "scatterternary": [
           {
            "marker": {
             "colorbar": {
              "outlinewidth": 0,
              "ticks": ""
             }
            },
            "type": "scatterternary"
           }
          ],
          "surface": [
           {
            "colorbar": {
             "outlinewidth": 0,
             "ticks": ""
            },
            "colorscale": [
             [
              0,
              "#0d0887"
             ],
             [
              0.1111111111111111,
              "#46039f"
             ],
             [
              0.2222222222222222,
              "#7201a8"
             ],
             [
              0.3333333333333333,
              "#9c179e"
             ],
             [
              0.4444444444444444,
              "#bd3786"
             ],
             [
              0.5555555555555556,
              "#d8576b"
             ],
             [
              0.6666666666666666,
              "#ed7953"
             ],
             [
              0.7777777777777778,
              "#fb9f3a"
             ],
             [
              0.8888888888888888,
              "#fdca26"
             ],
             [
              1,
              "#f0f921"
             ]
            ],
            "type": "surface"
           }
          ],
          "table": [
           {
            "cells": {
             "fill": {
              "color": "#EBF0F8"
             },
             "line": {
              "color": "white"
             }
            },
            "header": {
             "fill": {
              "color": "#C8D4E3"
             },
             "line": {
              "color": "white"
             }
            },
            "type": "table"
           }
          ]
         },
         "layout": {
          "annotationdefaults": {
           "arrowcolor": "#2a3f5f",
           "arrowhead": 0,
           "arrowwidth": 1
          },
          "autotypenumbers": "strict",
          "coloraxis": {
           "colorbar": {
            "outlinewidth": 0,
            "ticks": ""
           }
          },
          "colorscale": {
           "diverging": [
            [
             0,
             "#8e0152"
            ],
            [
             0.1,
             "#c51b7d"
            ],
            [
             0.2,
             "#de77ae"
            ],
            [
             0.3,
             "#f1b6da"
            ],
            [
             0.4,
             "#fde0ef"
            ],
            [
             0.5,
             "#f7f7f7"
            ],
            [
             0.6,
             "#e6f5d0"
            ],
            [
             0.7,
             "#b8e186"
            ],
            [
             0.8,
             "#7fbc41"
            ],
            [
             0.9,
             "#4d9221"
            ],
            [
             1,
             "#276419"
            ]
           ],
           "sequential": [
            [
             0,
             "#0d0887"
            ],
            [
             0.1111111111111111,
             "#46039f"
            ],
            [
             0.2222222222222222,
             "#7201a8"
            ],
            [
             0.3333333333333333,
             "#9c179e"
            ],
            [
             0.4444444444444444,
             "#bd3786"
            ],
            [
             0.5555555555555556,
             "#d8576b"
            ],
            [
             0.6666666666666666,
             "#ed7953"
            ],
            [
             0.7777777777777778,
             "#fb9f3a"
            ],
            [
             0.8888888888888888,
             "#fdca26"
            ],
            [
             1,
             "#f0f921"
            ]
           ],
           "sequentialminus": [
            [
             0,
             "#0d0887"
            ],
            [
             0.1111111111111111,
             "#46039f"
            ],
            [
             0.2222222222222222,
             "#7201a8"
            ],
            [
             0.3333333333333333,
             "#9c179e"
            ],
            [
             0.4444444444444444,
             "#bd3786"
            ],
            [
             0.5555555555555556,
             "#d8576b"
            ],
            [
             0.6666666666666666,
             "#ed7953"
            ],
            [
             0.7777777777777778,
             "#fb9f3a"
            ],
            [
             0.8888888888888888,
             "#fdca26"
            ],
            [
             1,
             "#f0f921"
            ]
           ]
          },
          "colorway": [
           "#636efa",
           "#EF553B",
           "#00cc96",
           "#ab63fa",
           "#FFA15A",
           "#19d3f3",
           "#FF6692",
           "#B6E880",
           "#FF97FF",
           "#FECB52"
          ],
          "font": {
           "color": "#2a3f5f"
          },
          "geo": {
           "bgcolor": "white",
           "lakecolor": "white",
           "landcolor": "#E5ECF6",
           "showlakes": true,
           "showland": true,
           "subunitcolor": "white"
          },
          "hoverlabel": {
           "align": "left"
          },
          "hovermode": "closest",
          "mapbox": {
           "style": "light"
          },
          "paper_bgcolor": "white",
          "plot_bgcolor": "#E5ECF6",
          "polar": {
           "angularaxis": {
            "gridcolor": "white",
            "linecolor": "white",
            "ticks": ""
           },
           "bgcolor": "#E5ECF6",
           "radialaxis": {
            "gridcolor": "white",
            "linecolor": "white",
            "ticks": ""
           }
          },
          "scene": {
           "xaxis": {
            "backgroundcolor": "#E5ECF6",
            "gridcolor": "white",
            "gridwidth": 2,
            "linecolor": "white",
            "showbackground": true,
            "ticks": "",
            "zerolinecolor": "white"
           },
           "yaxis": {
            "backgroundcolor": "#E5ECF6",
            "gridcolor": "white",
            "gridwidth": 2,
            "linecolor": "white",
            "showbackground": true,
            "ticks": "",
            "zerolinecolor": "white"
           },
           "zaxis": {
            "backgroundcolor": "#E5ECF6",
            "gridcolor": "white",
            "gridwidth": 2,
            "linecolor": "white",
            "showbackground": true,
            "ticks": "",
            "zerolinecolor": "white"
           }
          },
          "shapedefaults": {
           "line": {
            "color": "#2a3f5f"
           }
          },
          "ternary": {
           "aaxis": {
            "gridcolor": "white",
            "linecolor": "white",
            "ticks": ""
           },
           "baxis": {
            "gridcolor": "white",
            "linecolor": "white",
            "ticks": ""
           },
           "bgcolor": "#E5ECF6",
           "caxis": {
            "gridcolor": "white",
            "linecolor": "white",
            "ticks": ""
           }
          },
          "title": {
           "x": 0.05
          },
          "xaxis": {
           "automargin": true,
           "gridcolor": "white",
           "linecolor": "white",
           "ticks": "",
           "title": {
            "standoff": 15
           },
           "zerolinecolor": "white",
           "zerolinewidth": 2
          },
          "yaxis": {
           "automargin": true,
           "gridcolor": "white",
           "linecolor": "white",
           "ticks": "",
           "title": {
            "standoff": 15
           },
           "zerolinecolor": "white",
           "zerolinewidth": 2
          }
         }
        },
        "title": {
         "text": "CAN SLIM 포트폴리오 모니터링 대시보드"
        },
        "xaxis": {
         "anchor": "y",
         "domain": [
          0.55,
          1
         ]
        },
        "xaxis2": {
         "anchor": "y2",
         "domain": [
          0,
          0.45
         ],
         "title": {
          "text": "EPS 성장률(%)"
         }
        },
        "xaxis3": {
         "anchor": "y3",
         "domain": [
          0.55,
          1
         ]
        },
        "yaxis": {
         "anchor": "x",
         "domain": [
          0.625,
          1
         ]
        },
        "yaxis2": {
         "anchor": "x2",
         "domain": [
          0,
          0.375
         ],
         "title": {
          "text": "ROE"
         }
        },
        "yaxis3": {
         "anchor": "x3",
         "domain": [
          0,
          0.375
         ],
         "title": {
          "text": "52주 최고가 대비"
         }
        }
       }
      }
     },
     "metadata": {},
     "output_type": "display_data"
    }
   ],
   "source": [
    "def create_monitoring_dashboard(portfolio_df):\n",
    "    \"\"\"\n",
    "    포트폴리오 모니터링 대시보드 생성\n",
    "    \"\"\"\n",
    "    fig = make_subplots(\n",
    "        rows=2, cols=2,\n",
    "        subplot_titles=('포트폴리오 구성', 'CAN SLIM 점수 분포', \n",
    "                       '주요 지표', '리스크 지표'),\n",
    "        specs=[[{'type': 'pie'}, {'type': 'bar'}],\n",
    "               [{'type': 'scatter'}, {'type': 'bar'}]]\n",
    "    )\n",
    "    \n",
    "    # 1. 포트폴리오 구성\n",
    "    fig.add_trace(\n",
    "        go.Pie(labels=portfolio_df['name'], values=portfolio_df['Adjusted_Weight'],\n",
    "               hole=0.3),\n",
    "        row=1, col=1\n",
    "    )\n",
    "    \n",
    "    # 2. CAN SLIM 점수\n",
    "    fig.add_trace(\n",
    "        go.Bar(x=portfolio_df['name'], y=portfolio_df['Total_Score'],\n",
    "               marker_color='lightgreen'),\n",
    "        row=1, col=2\n",
    "    )\n",
    "    \n",
    "    # 3. 주요 지표\n",
    "    fig.add_trace(\n",
    "        go.Scatter(x=portfolio_df['EPS_Growth'], y=portfolio_df['ROE'],\n",
    "                   mode='markers+text', text=portfolio_df['name'],\n",
    "                   textposition='top center',\n",
    "                   marker=dict(size=portfolio_df['Total_Score']/2, \n",
    "                              color=portfolio_df['Total_Score'],\n",
    "                              colorscale='Viridis')),\n",
    "        row=2, col=1\n",
    "    )\n",
    "    \n",
    "    # 4. 리스크 지표\n",
    "    risk_metrics = portfolio_df[['name', '52W_Ratio']].copy()\n",
    "    fig.add_trace(\n",
    "        go.Bar(x=risk_metrics['name'], y=risk_metrics['52W_Ratio'],\n",
    "               marker_color='lightcoral'),\n",
    "        row=2, col=2\n",
    "    )\n",
    "    \n",
    "    fig.update_layout(height=800, showlegend=False,\n",
    "                     title_text=\"CAN SLIM 포트폴리오 모니터링 대시보드\")\n",
    "    \n",
    "    fig.update_xaxes(title_text=\"EPS 성장률(%)\", row=2, col=1)\n",
    "    fig.update_yaxes(title_text=\"ROE\", row=2, col=1)\n",
    "    fig.update_yaxes(title_text=\"52주 최고가 대비\", row=2, col=2)\n",
    "    \n",
    "    return fig\n",
    "\n",
    "if len(portfolio) > 0:\n",
    "    dashboard = create_monitoring_dashboard(portfolio)\n",
    "    dashboard.show()"
   ]
  },
  {
   "cell_type": "markdown",
   "metadata": {},
   "source": [
    "## 7. 결과 저장"
   ]
  },
  {
   "cell_type": "code",
   "execution_count": 10,
   "metadata": {},
   "outputs": [
    {
     "name": "stdout",
     "output_type": "stream",
     "text": [
      "스크리닝 결과 저장: results/canslim_screening_results.csv\n",
      "포트폴리오 저장: results/canslim_portfolio.csv\n",
      "리포트 저장: results/canslim_report.txt\n"
     ]
    }
   ],
   "source": [
    "# 결과 저장\n",
    "import os\n",
    "os.makedirs('results', exist_ok=True)\n",
    "\n",
    "# 전체 스크리닝 결과\n",
    "screening_results.to_csv('results/canslim_screening_results.csv', index=False, encoding='utf-8-sig')\n",
    "print(\"스크리닝 결과 저장: results/canslim_screening_results.csv\")\n",
    "\n",
    "# 포트폴리오\n",
    "if len(portfolio) > 0:\n",
    "    portfolio.to_csv('results/canslim_portfolio.csv', index=False, encoding='utf-8-sig')\n",
    "    print(\"포트폴리오 저장: results/canslim_portfolio.csv\")\n",
    "\n",
    "# 요약 리포트\n",
    "with open('results/canslim_report.txt', 'w', encoding='utf-8') as f:\n",
    "    f.write(\"CAN SLIM 스크리닝 리포트\\n\")\n",
    "    f.write(\"=\"*50 + \"\\n\")\n",
    "    f.write(f\"분석 일자: {datetime.now().strftime('%Y-%m-%d')}\\n\")\n",
    "    f.write(f\"분석 종목 수: {len(screening_results)}\\n\")\n",
    "    f.write(f\"투자 적합 종목: {len(screening_results[screening_results['Total_Score'] >= 60])}\\n\")\n",
    "    f.write(f\"\\n상위 5개 종목:\\n\")\n",
    "    for i, row in screening_results.head(5).iterrows():\n",
    "        f.write(f\"  {i+1}. {row['name']} ({row['ticker']}): {row['Total_Score']:.1f}점\\n\")\n",
    "\n",
    "print(\"리포트 저장: results/canslim_report.txt\")"
   ]
  },
  {
   "cell_type": "markdown",
   "metadata": {},
   "source": [
    "## 마무리\n",
    "\n",
    "### 구현 완료 사항\n",
    "1. ✅ 모든 CAN SLIM 지표 통합 분석\n",
    "2. ✅ 자동화된 스크리닝 시스템\n",
    "3. ✅ 종합 점수 산출 및 순위화\n",
    "4. ✅ 포트폴리오 구성 및 가중치 배분\n",
    "5. ✅ 백테스팅 프레임워크\n",
    "6. ✅ 시각화 대시보드\n",
    "\n",
    "### 실전 활용 가이드\n",
    "1. **매주 실행**: 주말에 전체 스크리닝 실행\n",
    "2. **점수 기준**: 60점 이상 종목 주목, 70점 이상 우선 투자\n",
    "3. **분산 투자**: 최소 5개, 최대 15개 종목\n",
    "4. **리밸런싱**: 월 1회 포트폴리오 재조정\n",
    "5. **손절 기준**: 7-8% 손실 시 기계적 손절\n",
    "\n",
    "### 추가 개선 사항\n",
    "- 실시간 데이터 연동\n",
    "- 자동 매매 시스템 연결\n",
    "- 리스크 관리 모듈 강화\n",
    "- 섹터별 분석 추가\n",
    "- 머신러닝 예측 모델 통합\n",
    "\n",
    "**투자에 성공하시길 바랍니다! 📈**"
   ]
  }
 ],
 "metadata": {
  "kernelspec": {
   "display_name": "ai",
   "language": "python",
   "name": "python3"
  },
  "language_info": {
   "codemirror_mode": {
    "name": "ipython",
    "version": 3
   },
   "file_extension": ".py",
   "mimetype": "text/x-python",
   "name": "python",
   "nbconvert_exporter": "python",
   "pygments_lexer": "ipython3",
   "version": "3.10.18"
  }
 },
 "nbformat": 4,
 "nbformat_minor": 4
}
