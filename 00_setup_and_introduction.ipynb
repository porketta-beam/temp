{
 "cells": [
  {
   "cell_type": "markdown",
   "metadata": {},
   "source": [
    "# 00. CAN SLIM 한국 주식시장 스크리닝 튜토리얼\n",
    "\n",
    "## 소개\n",
    "이 튜토리얼 시리즈는 윌리엄 오닐의 **CAN SLIM** 투자 전략을 한국 주식시장에 적용하는 방법을 단계별로 안내합니다.\n",
    "\n",
    "### CAN SLIM이란?\n",
    "CAN SLIM은 성장주 투자의 대가 윌리엄 오닐(William J. O'Neil)이 개발한 주식 선별 전략입니다.\n",
    "\n",
    "각 글자가 의미하는 바:\n",
    "- **C** (Current Earnings): 현재 분기 EPS 성장률\n",
    "- **A** (Annual Earnings): 연간 EPS 성장률\n",
    "- **N** (New): 신제품, 신경영진, 신고가\n",
    "- **S** (Supply and Demand): 수급 상황\n",
    "- **L** (Leader or Laggard): 업종 내 선도주 여부\n",
    "- **I** (Institutional Sponsorship): 기관투자자 매수\n",
    "- **M** (Market Direction): 전체 시장 방향\n",
    "\n",
    "### 한국 시장 적용 시 고려사항\n",
    "1. **데이터 소스**: pykrx를 통한 한국거래소 데이터 활용\n",
    "2. **지표 변환**: 미국 시장 기준을 한국 시장에 맞게 조정\n",
    "3. **추가 지표**: 한국 시장 특성 반영 (외국인 매수 동향 등)"
   ]
  },
  {
   "cell_type": "markdown",
   "metadata": {},
   "source": [
    "## 환경 설정\n",
    "\n",
    "### 필수 라이브러리 설치\n",
    "아래 셀을 실행하여 필요한 라이브러리를 설치합니다."
   ]
  },
  {
   "cell_type": "code",
   "execution_count": 4,
   "metadata": {},
   "outputs": [
    {
     "name": "stdout",
     "output_type": "stream",
     "text": [
      "Requirement already satisfied: pykrx in c:\\users\\js\\.conda\\envs\\ai\\lib\\site-packages (1.0.51)\n",
      "Requirement already satisfied: pandas in c:\\users\\js\\.conda\\envs\\ai\\lib\\site-packages (2.3.0)\n",
      "Requirement already satisfied: numpy in c:\\users\\js\\.conda\\envs\\ai\\lib\\site-packages (2.2.6)\n",
      "Requirement already satisfied: matplotlib in c:\\users\\js\\.conda\\envs\\ai\\lib\\site-packages (3.10.3)\n",
      "Requirement already satisfied: seaborn in c:\\users\\js\\.conda\\envs\\ai\\lib\\site-packages (0.13.2)\n",
      "Requirement already satisfied: plotly in c:\\users\\js\\.conda\\envs\\ai\\lib\\site-packages (6.2.0)\n",
      "Requirement already satisfied: requests in c:\\users\\js\\.conda\\envs\\ai\\lib\\site-packages (from pykrx) (2.32.4)\n",
      "Requirement already satisfied: datetime in c:\\users\\js\\.conda\\envs\\ai\\lib\\site-packages (from pykrx) (5.5)\n",
      "Requirement already satisfied: xlrd in c:\\users\\js\\.conda\\envs\\ai\\lib\\site-packages (from pykrx) (2.0.1)\n",
      "Requirement already satisfied: deprecated in c:\\users\\js\\.conda\\envs\\ai\\lib\\site-packages (from pykrx) (1.2.18)\n",
      "Requirement already satisfied: multipledispatch in c:\\users\\js\\.conda\\envs\\ai\\lib\\site-packages (from pykrx) (1.0.0)\n",
      "Requirement already satisfied: python-dateutil>=2.8.2 in c:\\users\\js\\.conda\\envs\\ai\\lib\\site-packages (from pandas) (2.9.0.post0)\n",
      "Requirement already satisfied: pytz>=2020.1 in c:\\users\\js\\.conda\\envs\\ai\\lib\\site-packages (from pandas) (2025.2)\n",
      "Requirement already satisfied: tzdata>=2022.7 in c:\\users\\js\\.conda\\envs\\ai\\lib\\site-packages (from pandas) (2025.2)\n",
      "Requirement already satisfied: contourpy>=1.0.1 in c:\\users\\js\\.conda\\envs\\ai\\lib\\site-packages (from matplotlib) (1.3.2)\n",
      "Requirement already satisfied: cycler>=0.10 in c:\\users\\js\\.conda\\envs\\ai\\lib\\site-packages (from matplotlib) (0.12.1)\n",
      "Requirement already satisfied: fonttools>=4.22.0 in c:\\users\\js\\.conda\\envs\\ai\\lib\\site-packages (from matplotlib) (4.58.2)\n",
      "Requirement already satisfied: kiwisolver>=1.3.1 in c:\\users\\js\\.conda\\envs\\ai\\lib\\site-packages (from matplotlib) (1.4.8)\n",
      "Requirement already satisfied: packaging>=20.0 in c:\\users\\js\\.conda\\envs\\ai\\lib\\site-packages (from matplotlib) (24.2)\n",
      "Requirement already satisfied: pillow>=8 in c:\\users\\js\\.conda\\envs\\ai\\lib\\site-packages (from matplotlib) (11.2.1)\n",
      "Requirement already satisfied: pyparsing>=2.3.1 in c:\\users\\js\\.conda\\envs\\ai\\lib\\site-packages (from matplotlib) (3.2.3)\n",
      "Requirement already satisfied: narwhals>=1.15.1 in c:\\users\\js\\.conda\\envs\\ai\\lib\\site-packages (from plotly) (1.48.0)\n",
      "Requirement already satisfied: six>=1.5 in c:\\users\\js\\.conda\\envs\\ai\\lib\\site-packages (from python-dateutil>=2.8.2->pandas) (1.17.0)\n",
      "Requirement already satisfied: zope.interface in c:\\users\\js\\.conda\\envs\\ai\\lib\\site-packages (from datetime->pykrx) (7.2)\n",
      "Requirement already satisfied: wrapt<2,>=1.10 in c:\\users\\js\\.conda\\envs\\ai\\lib\\site-packages (from deprecated->pykrx) (1.17.2)\n",
      "Requirement already satisfied: charset_normalizer<4,>=2 in c:\\users\\js\\.conda\\envs\\ai\\lib\\site-packages (from requests->pykrx) (3.4.2)\n",
      "Requirement already satisfied: idna<4,>=2.5 in c:\\users\\js\\.conda\\envs\\ai\\lib\\site-packages (from requests->pykrx) (3.10)\n",
      "Requirement already satisfied: urllib3<3,>=1.21.1 in c:\\users\\js\\.conda\\envs\\ai\\lib\\site-packages (from requests->pykrx) (2.4.0)\n",
      "Requirement already satisfied: certifi>=2017.4.17 in c:\\users\\js\\.conda\\envs\\ai\\lib\\site-packages (from requests->pykrx) (2025.4.26)\n",
      "Requirement already satisfied: setuptools in c:\\users\\js\\.conda\\envs\\ai\\lib\\site-packages (from zope.interface->datetime->pykrx) (78.1.1)\n",
      "Requirement already satisfied: ta in c:\\users\\js\\.conda\\envs\\ai\\lib\\site-packages (0.11.0)\n",
      "Requirement already satisfied: numpy in c:\\users\\js\\.conda\\envs\\ai\\lib\\site-packages (from ta) (2.2.6)\n",
      "Requirement already satisfied: pandas in c:\\users\\js\\.conda\\envs\\ai\\lib\\site-packages (from ta) (2.3.0)\n",
      "Requirement already satisfied: python-dateutil>=2.8.2 in c:\\users\\js\\.conda\\envs\\ai\\lib\\site-packages (from pandas->ta) (2.9.0.post0)\n",
      "Requirement already satisfied: pytz>=2020.1 in c:\\users\\js\\.conda\\envs\\ai\\lib\\site-packages (from pandas->ta) (2025.2)\n",
      "Requirement already satisfied: tzdata>=2022.7 in c:\\users\\js\\.conda\\envs\\ai\\lib\\site-packages (from pandas->ta) (2025.2)\n",
      "Requirement already satisfied: six>=1.5 in c:\\users\\js\\.conda\\envs\\ai\\lib\\site-packages (from python-dateutil>=2.8.2->pandas->ta) (1.17.0)\n",
      "Requirement already satisfied: tqdm in c:\\users\\js\\.conda\\envs\\ai\\lib\\site-packages (4.67.1)\n",
      "Requirement already satisfied: colorama in c:\\users\\js\\.conda\\envs\\ai\\lib\\site-packages (from tqdm) (0.4.6)\n",
      "Collecting openpyxl\n",
      "  Using cached openpyxl-3.1.5-py2.py3-none-any.whl.metadata (2.5 kB)\n",
      "Collecting et-xmlfile (from openpyxl)\n",
      "  Using cached et_xmlfile-2.0.0-py3-none-any.whl.metadata (2.7 kB)\n",
      "Using cached openpyxl-3.1.5-py2.py3-none-any.whl (250 kB)\n",
      "Using cached et_xmlfile-2.0.0-py3-none-any.whl (18 kB)\n",
      "Installing collected packages: et-xmlfile, openpyxl\n",
      "\n",
      "   ---------------------------------------- 0/2 [et-xmlfile]\n",
      "   -------------------- ------------------- 1/2 [openpyxl]\n",
      "   -------------------- ------------------- 1/2 [openpyxl]\n",
      "   -------------------- ------------------- 1/2 [openpyxl]\n",
      "   -------------------- ------------------- 1/2 [openpyxl]\n",
      "   -------------------- ------------------- 1/2 [openpyxl]\n",
      "   -------------------- ------------------- 1/2 [openpyxl]\n",
      "   -------------------- ------------------- 1/2 [openpyxl]\n",
      "   -------------------- ------------------- 1/2 [openpyxl]\n",
      "   -------------------- ------------------- 1/2 [openpyxl]\n",
      "   -------------------- ------------------- 1/2 [openpyxl]\n",
      "   -------------------- ------------------- 1/2 [openpyxl]\n",
      "   -------------------- ------------------- 1/2 [openpyxl]\n",
      "   -------------------- ------------------- 1/2 [openpyxl]\n",
      "   -------------------- ------------------- 1/2 [openpyxl]\n",
      "   -------------------- ------------------- 1/2 [openpyxl]\n",
      "   -------------------- ------------------- 1/2 [openpyxl]\n",
      "   -------------------- ------------------- 1/2 [openpyxl]\n",
      "   -------------------- ------------------- 1/2 [openpyxl]\n",
      "   -------------------- ------------------- 1/2 [openpyxl]\n",
      "   -------------------- ------------------- 1/2 [openpyxl]\n",
      "   -------------------- ------------------- 1/2 [openpyxl]\n",
      "   -------------------- ------------------- 1/2 [openpyxl]\n",
      "   -------------------- ------------------- 1/2 [openpyxl]\n",
      "   -------------------- ------------------- 1/2 [openpyxl]\n",
      "   -------------------- ------------------- 1/2 [openpyxl]\n",
      "   -------------------- ------------------- 1/2 [openpyxl]\n",
      "   -------------------- ------------------- 1/2 [openpyxl]\n",
      "   -------------------- ------------------- 1/2 [openpyxl]\n",
      "   -------------------- ------------------- 1/2 [openpyxl]\n",
      "   -------------------- ------------------- 1/2 [openpyxl]\n",
      "   -------------------- ------------------- 1/2 [openpyxl]\n",
      "   -------------------- ------------------- 1/2 [openpyxl]\n",
      "   -------------------- ------------------- 1/2 [openpyxl]\n",
      "   -------------------- ------------------- 1/2 [openpyxl]\n",
      "   -------------------- ------------------- 1/2 [openpyxl]\n",
      "   -------------------- ------------------- 1/2 [openpyxl]\n",
      "   -------------------- ------------------- 1/2 [openpyxl]\n",
      "   -------------------- ------------------- 1/2 [openpyxl]\n",
      "   -------------------- ------------------- 1/2 [openpyxl]\n",
      "   -------------------- ------------------- 1/2 [openpyxl]\n",
      "   -------------------- ------------------- 1/2 [openpyxl]\n",
      "   -------------------- ------------------- 1/2 [openpyxl]\n",
      "   -------------------- ------------------- 1/2 [openpyxl]\n",
      "   -------------------- ------------------- 1/2 [openpyxl]\n",
      "   -------------------- ------------------- 1/2 [openpyxl]\n",
      "   -------------------- ------------------- 1/2 [openpyxl]\n",
      "   -------------------- ------------------- 1/2 [openpyxl]\n",
      "   -------------------- ------------------- 1/2 [openpyxl]\n",
      "   -------------------- ------------------- 1/2 [openpyxl]\n",
      "   -------------------- ------------------- 1/2 [openpyxl]\n",
      "   -------------------- ------------------- 1/2 [openpyxl]\n",
      "   -------------------- ------------------- 1/2 [openpyxl]\n",
      "   -------------------- ------------------- 1/2 [openpyxl]\n",
      "   -------------------- ------------------- 1/2 [openpyxl]\n",
      "   -------------------- ------------------- 1/2 [openpyxl]\n",
      "   -------------------- ------------------- 1/2 [openpyxl]\n",
      "   -------------------- ------------------- 1/2 [openpyxl]\n",
      "   -------------------- ------------------- 1/2 [openpyxl]\n",
      "   -------------------- ------------------- 1/2 [openpyxl]\n",
      "   -------------------- ------------------- 1/2 [openpyxl]\n",
      "   -------------------- ------------------- 1/2 [openpyxl]\n",
      "   -------------------- ------------------- 1/2 [openpyxl]\n",
      "   -------------------- ------------------- 1/2 [openpyxl]\n",
      "   -------------------- ------------------- 1/2 [openpyxl]\n",
      "   -------------------- ------------------- 1/2 [openpyxl]\n",
      "   -------------------- ------------------- 1/2 [openpyxl]\n",
      "   -------------------- ------------------- 1/2 [openpyxl]\n",
      "   -------------------- ------------------- 1/2 [openpyxl]\n",
      "   ---------------------------------------- 2/2 [openpyxl]\n",
      "\n",
      "Successfully installed et-xmlfile-2.0.0 openpyxl-3.1.5\n"
     ]
    }
   ],
   "source": [
    "# 필수 라이브러리 설치\n",
    "!pip install pykrx pandas numpy matplotlib seaborn plotly\n",
    " # 기술적 지표 계산용\n",
    "!pip install ta \n",
    "# 진행률 표시용\n",
    "!pip install tqdm \n",
    "# Excel 파일 처리용\n",
    "!pip install openpyxl  "
   ]
  },
  {
   "cell_type": "markdown",
   "metadata": {},
   "source": [
    "### 라이브러리 임포트 및 설정"
   ]
  },
  {
   "cell_type": "code",
   "execution_count": 5,
   "metadata": {},
   "outputs": [
    {
     "name": "stdout",
     "output_type": "stream",
     "text": [
      "라이브러리 로드 완료!\n",
      "pykrx 버전: Unknown\n"
     ]
    }
   ],
   "source": [
    "# 기본 라이브러리\n",
    "import pandas as pd\n",
    "import numpy as np\n",
    "from datetime import datetime, timedelta\n",
    "import warnings\n",
    "warnings.filterwarnings('ignore')\n",
    "\n",
    "# 데이터 수집\n",
    "from pykrx import stock\n",
    "\n",
    "# 시각화\n",
    "import matplotlib.pyplot as plt\n",
    "import seaborn as sns\n",
    "import plotly.graph_objects as go\n",
    "import plotly.express as px\n",
    "from plotly.subplots import make_subplots\n",
    "\n",
    "# 기술적 지표\n",
    "import ta\n",
    "\n",
    "# 유틸리티\n",
    "from tqdm import tqdm\n",
    "import time\n",
    "\n",
    "# 한글 폰트 설정 (Windows)\n",
    "plt.rcParams['font.family'] = 'Malgun Gothic'\n",
    "plt.rcParams['axes.unicode_minus'] = False\n",
    "\n",
    "# Pandas 설정\n",
    "pd.set_option('display.max_columns', None)\n",
    "pd.set_option('display.max_rows', 100)\n",
    "pd.set_option('display.float_format', '{:.2f}'.format)\n",
    "\n",
    "print(\"라이브러리 로드 완료!\")\n",
    "print(f\"pykrx 버전: {stock.__version__ if hasattr(stock, '__version__') else 'Unknown'}\")"
   ]
  },
  {
   "cell_type": "markdown",
   "metadata": {},
   "source": [
    "## 기본 함수 정의\n",
    "\n",
    "### 날짜 관련 유틸리티"
   ]
  },
  {
   "cell_type": "code",
   "execution_count": 6,
   "metadata": {},
   "outputs": [
    {
     "name": "stdout",
     "output_type": "stream",
     "text": [
      "데이터 수집 기간: 20240910 ~ 20250905\n",
      "\n",
      "분기별 날짜:\n",
      "Q0: 20240612 ~ 20240910\n",
      "Q1: 20240910 ~ 20241209\n",
      "Q2: 20241209 ~ 20250309\n",
      "Q3: 20250309 ~ 20250607\n",
      "Q4: 20250607 ~ 20250905\n"
     ]
    }
   ],
   "source": [
    "def get_date_strings(months_ago=12):\n",
    "    \"\"\"\n",
    "    현재 날짜와 과거 날짜를 문자열로 반환\n",
    "    \n",
    "    Parameters:\n",
    "    months_ago (int): 몇 개월 전 날짜를 가져올지\n",
    "    \n",
    "    Returns:\n",
    "    tuple: (시작일, 종료일) 형식의 문자열 튜플\n",
    "    \"\"\"\n",
    "    end_date = datetime.now()\n",
    "    start_date = end_date - timedelta(days=months_ago*30)\n",
    "    \n",
    "    return start_date.strftime('%Y%m%d'), end_date.strftime('%Y%m%d')\n",
    "\n",
    "def get_quarter_dates():\n",
    "    \"\"\"\n",
    "    최근 5개 분기의 시작일과 종료일 반환\n",
    "    \"\"\"\n",
    "    today = datetime.now()\n",
    "    quarters = []\n",
    "    \n",
    "    for i in range(5):\n",
    "        quarter_end = today - timedelta(days=90*i)\n",
    "        quarter_start = quarter_end - timedelta(days=90)\n",
    "        quarters.append({\n",
    "            'start': quarter_start.strftime('%Y%m%d'),\n",
    "            'end': quarter_end.strftime('%Y%m%d'),\n",
    "            'label': f'Q{4-i}'\n",
    "        })\n",
    "    \n",
    "    return quarters[::-1]  # 오래된 순서로 정렬\n",
    "\n",
    "# 테스트\n",
    "start, end = get_date_strings(12)\n",
    "print(f\"데이터 수집 기간: {start} ~ {end}\")\n",
    "print(\"\\n분기별 날짜:\")\n",
    "for q in get_quarter_dates():\n",
    "    print(f\"{q['label']}: {q['start']} ~ {q['end']}\")"
   ]
  },
  {
   "cell_type": "markdown",
   "metadata": {},
   "source": [
    "### 데이터 수집 기본 함수"
   ]
  },
  {
   "cell_type": "code",
   "execution_count": 7,
   "metadata": {},
   "outputs": [
    {
     "name": "stderr",
     "output_type": "stream",
     "text": [
      "KOSPI 종목 정보 수집: 100%|██████████| 10/10 [00:05<00:00,  1.92it/s]"
     ]
    },
    {
     "name": "stdout",
     "output_type": "stream",
     "text": [
      "\n",
      "수집된 KOSPI 종목 수: 10\n",
      "   ticker     name market\n",
      "0  095570   AJ네트웍스  KOSPI\n",
      "1  006840    AK홀딩스  KOSPI\n",
      "2  027410      BGF  KOSPI\n",
      "3  282330   BGF리테일  KOSPI\n",
      "4  138930  BNK금융지주  KOSPI\n"
     ]
    },
    {
     "name": "stderr",
     "output_type": "stream",
     "text": [
      "\n"
     ]
    }
   ],
   "source": [
    "def get_stock_list(market=\"KOSPI\"):\n",
    "    \"\"\"\n",
    "    주식 종목 리스트 가져오기\n",
    "    \n",
    "    Parameters:\n",
    "    market (str): 'KOSPI' 또는 'KOSDAQ'\n",
    "    \n",
    "    Returns:\n",
    "    DataFrame: 종목 코드와 이름\n",
    "    \"\"\"\n",
    "    tickers = stock.get_market_ticker_list(market=market)\n",
    "    \n",
    "    stock_list = []\n",
    "    for ticker in tqdm(tickers[:10], desc=f\"{market} 종목 정보 수집\"):  # 데모용으로 10개만\n",
    "        try:\n",
    "            name = stock.get_market_ticker_name(ticker)\n",
    "            stock_list.append({\n",
    "                'ticker': ticker,\n",
    "                'name': name,\n",
    "                'market': market\n",
    "            })\n",
    "            time.sleep(0.1)  # API 호출 제한 방지\n",
    "        except:\n",
    "            continue\n",
    "    \n",
    "    return pd.DataFrame(stock_list)\n",
    "\n",
    "# 테스트: KOSPI 상위 10개 종목\n",
    "kospi_stocks = get_stock_list(\"KOSPI\")\n",
    "print(f\"\\n수집된 KOSPI 종목 수: {len(kospi_stocks)}\")\n",
    "print(kospi_stocks.head())"
   ]
  },
  {
   "cell_type": "markdown",
   "metadata": {},
   "source": [
    "## CAN SLIM 스크리닝 기준 정리\n",
    "\n",
    "### 핵심 정량적 기준"
   ]
  },
  {
   "cell_type": "code",
   "execution_count": 8,
   "metadata": {},
   "outputs": [
    {
     "name": "stdout",
     "output_type": "stream",
     "text": [
      "CAN SLIM 스크리닝 기준\n",
      "==================================================\n",
      "\n",
      "C - 현재 분기 실적 (Current Quarterly Earnings)\n",
      "  • quarterly_eps_growth: 0.25\n",
      "  • quarterly_sales_growth: 0.25\n",
      "\n",
      "A - 연간 실적 (Annual Earnings)\n",
      "  • annual_eps_growth: 0.25\n",
      "  • eps_stability: 3\n",
      "  • roe_threshold: 0.17\n",
      "\n",
      "N - 신고가, 신제품, 신경영진 (New)\n",
      "  • price_near_high: 0.85\n",
      "  • new_high_volume: 1.5\n",
      "\n",
      "S - 수급 (Supply and Demand)\n",
      "  • shares_outstanding: 50000000\n",
      "  • volume_increase: 1.5\n",
      "\n",
      "L - 업종 선도주 (Leader)\n",
      "  • relative_strength: 80\n",
      "  • industry_rank: 0.2\n",
      "\n",
      "I - 기관 투자자 (Institutional Sponsorship)\n",
      "  • institutional_ownership: 0.1\n",
      "  • institutional_increase: True\n",
      "\n",
      "M - 시장 방향성 (Market Direction)\n",
      "  • market_trend: uptrend\n",
      "  • index_confirmation: True\n"
     ]
    }
   ],
   "source": [
    "# CAN SLIM 기준 설정\n",
    "CANSLIM_CRITERIA = {\n",
    "    'C': {\n",
    "        'quarterly_eps_growth': 0.25,  # 분기 EPS 25% 이상 성장\n",
    "        'quarterly_sales_growth': 0.25,  # 분기 매출 25% 이상 성장\n",
    "        'description': '현재 분기 실적 (Current Quarterly Earnings)'\n",
    "    },\n",
    "    'A': {\n",
    "        'annual_eps_growth': 0.25,  # 연간 EPS 25% 이상 성장\n",
    "        'eps_stability': 3,  # 최근 3년 연속 EPS 증가\n",
    "        'roe_threshold': 0.17,  # ROE 17% 이상\n",
    "        'description': '연간 실적 (Annual Earnings)'\n",
    "    },\n",
    "    'N': {\n",
    "        'price_near_high': 0.85,  # 52주 최고가 대비 85% 이상\n",
    "        'new_high_volume': 1.5,  # 신고가 시 거래량 1.5배 이상\n",
    "        'description': '신고가, 신제품, 신경영진 (New)'\n",
    "    },\n",
    "    'S': {\n",
    "        'shares_outstanding': 50000000,  # 유통주식수 5천만주 이하 선호\n",
    "        'volume_increase': 1.5,  # 평균 거래량 대비 1.5배 증가\n",
    "        'description': '수급 (Supply and Demand)'\n",
    "    },\n",
    "    'L': {\n",
    "        'relative_strength': 80,  # 상대강도 80 이상 (상위 20%)\n",
    "        'industry_rank': 0.2,  # 업종 내 상위 20%\n",
    "        'description': '업종 선도주 (Leader)'\n",
    "    },\n",
    "    'I': {\n",
    "        'institutional_ownership': 0.1,  # 기관 보유 10% 이상\n",
    "        'institutional_increase': True,  # 기관 매수 증가 추세\n",
    "        'description': '기관 투자자 (Institutional Sponsorship)'\n",
    "    },\n",
    "    'M': {\n",
    "        'market_trend': 'uptrend',  # 시장 상승 추세\n",
    "        'index_confirmation': True,  # 주요 지수 상승 확인\n",
    "        'description': '시장 방향성 (Market Direction)'\n",
    "    }\n",
    "}\n",
    "\n",
    "# 기준 출력\n",
    "print(\"CAN SLIM 스크리닝 기준\")\n",
    "print(\"=\"*50)\n",
    "for key, criteria in CANSLIM_CRITERIA.items():\n",
    "    print(f\"\\n{key} - {criteria['description']}\")\n",
    "    for k, v in criteria.items():\n",
    "        if k != 'description':\n",
    "            print(f\"  • {k}: {v}\")"
   ]
  },
  {
   "cell_type": "markdown",
   "metadata": {},
   "source": [
    "## 튜토리얼 구성 안내\n",
    "\n",
    "### 노트북 구성"
   ]
  },
  {
   "cell_type": "code",
   "execution_count": 9,
   "metadata": {},
   "outputs": [
    {
     "name": "stdout",
     "output_type": "stream",
     "text": [
      "\n",
      "📚 CAN SLIM 튜토리얼 구성\n",
      "================================================================================\n",
      "\n",
      "1. 데이터 수집\n",
      "   📝 파일: 01_data_collection.ipynb\n",
      "   📖 설명: pykrx를 활용한 주가, 재무, 투자자별 데이터 수집 방법\n",
      "   🔑 주요 내용: 주가 데이터, 재무 데이터, 투자자별 매매 동향\n",
      "\n",
      "2. C - 현재 분기 실적 분석\n",
      "   📝 파일: 02_current_earnings_analysis.ipynb\n",
      "   📖 설명: 분기별 EPS, 매출 성장률 계산 및 가속화 패턴 분석\n",
      "   🔑 주요 내용: 분기 EPS 성장률, 매출 성장률, 실적 가속화\n",
      "\n",
      "3. A - 연간 실적 분석\n",
      "   📝 파일: 03_annual_earnings_analysis.ipynb\n",
      "   📖 설명: 연간 EPS 성장률, CAGR, ROE 분석\n",
      "   🔑 주요 내용: 연간 성장률, CAGR 계산, ROE 분석\n",
      "\n",
      "4. N - 신고가 및 기술적 분석\n",
      "   📝 파일: 04_new_highs_technical.ipynb\n",
      "   📖 설명: 52주 신고가 근접성, 차트 패턴, 거래량 분석\n",
      "   🔑 주요 내용: 52주 고가, 차트 패턴, 거래량 급증\n",
      "\n",
      "5. S - 수급 분석\n",
      "   📝 파일: 05_supply_demand_analysis.ipynb\n",
      "   📖 설명: 유통주식수, 거래량 변화, 수급 상황 분석\n",
      "   🔑 주요 내용: 유통주식수, 거래량 분석, 수급 지표\n",
      "\n",
      "6. L - 업종 선도주 분석\n",
      "   📝 파일: 06_leader_laggard_analysis.ipynb\n",
      "   📖 설명: 상대강도(RS), 업종 내 순위, 모멘텀 분석\n",
      "   🔑 주요 내용: 상대강도, 업종 순위, 모멘텀\n",
      "\n",
      "7. I - 기관 투자자 분석\n",
      "   📝 파일: 07_institutional_sponsorship.ipynb\n",
      "   📖 설명: 기관 및 외국인 매매 동향, 보유 비중 분석\n",
      "   🔑 주요 내용: 기관 매수, 외국인 동향, 스마트머니\n",
      "\n",
      "8. M - 시장 방향성 분석\n",
      "   📝 파일: 08_market_direction.ipynb\n",
      "   📖 설명: KOSPI/KOSDAQ 추세, 시장 타이밍 분석\n",
      "   🔑 주요 내용: 지수 분석, 시장 추세, 타이밍\n",
      "\n",
      "9. 통합 스크리닝 시스템\n",
      "   📝 파일: 09_complete_screening.ipynb\n",
      "   📖 설명: 모든 지표를 통합한 자동 스크리닝 시스템 구축\n",
      "   🔑 주요 내용: 통합 스크리닝, 점수 산출, 포트폴리오\n"
     ]
    }
   ],
   "source": [
    "tutorials = [\n",
    "    {\n",
    "        'notebook': '01_data_collection.ipynb',\n",
    "        'title': '데이터 수집',\n",
    "        'description': 'pykrx를 활용한 주가, 재무, 투자자별 데이터 수집 방법',\n",
    "        'key_topics': ['주가 데이터', '재무 데이터', '투자자별 매매 동향']\n",
    "    },\n",
    "    {\n",
    "        'notebook': '02_current_earnings_analysis.ipynb',\n",
    "        'title': 'C - 현재 분기 실적 분석',\n",
    "        'description': '분기별 EPS, 매출 성장률 계산 및 가속화 패턴 분석',\n",
    "        'key_topics': ['분기 EPS 성장률', '매출 성장률', '실적 가속화']\n",
    "    },\n",
    "    {\n",
    "        'notebook': '03_annual_earnings_analysis.ipynb',\n",
    "        'title': 'A - 연간 실적 분석',\n",
    "        'description': '연간 EPS 성장률, CAGR, ROE 분석',\n",
    "        'key_topics': ['연간 성장률', 'CAGR 계산', 'ROE 분석']\n",
    "    },\n",
    "    {\n",
    "        'notebook': '04_new_highs_technical.ipynb',\n",
    "        'title': 'N - 신고가 및 기술적 분석',\n",
    "        'description': '52주 신고가 근접성, 차트 패턴, 거래량 분석',\n",
    "        'key_topics': ['52주 고가', '차트 패턴', '거래량 급증']\n",
    "    },\n",
    "    {\n",
    "        'notebook': '05_supply_demand_analysis.ipynb',\n",
    "        'title': 'S - 수급 분석',\n",
    "        'description': '유통주식수, 거래량 변화, 수급 상황 분석',\n",
    "        'key_topics': ['유통주식수', '거래량 분석', '수급 지표']\n",
    "    },\n",
    "    {\n",
    "        'notebook': '06_leader_laggard_analysis.ipynb',\n",
    "        'title': 'L - 업종 선도주 분석',\n",
    "        'description': '상대강도(RS), 업종 내 순위, 모멘텀 분석',\n",
    "        'key_topics': ['상대강도', '업종 순위', '모멘텀']\n",
    "    },\n",
    "    {\n",
    "        'notebook': '07_institutional_sponsorship.ipynb',\n",
    "        'title': 'I - 기관 투자자 분석',\n",
    "        'description': '기관 및 외국인 매매 동향, 보유 비중 분석',\n",
    "        'key_topics': ['기관 매수', '외국인 동향', '스마트머니']\n",
    "    },\n",
    "    {\n",
    "        'notebook': '08_market_direction.ipynb',\n",
    "        'title': 'M - 시장 방향성 분석',\n",
    "        'description': 'KOSPI/KOSDAQ 추세, 시장 타이밍 분석',\n",
    "        'key_topics': ['지수 분석', '시장 추세', '타이밍']\n",
    "    },\n",
    "    {\n",
    "        'notebook': '09_complete_screening.ipynb',\n",
    "        'title': '통합 스크리닝 시스템',\n",
    "        'description': '모든 지표를 통합한 자동 스크리닝 시스템 구축',\n",
    "        'key_topics': ['통합 스크리닝', '점수 산출', '포트폴리오']\n",
    "    }\n",
    "]\n",
    "\n",
    "# 튜토리얼 구성 표시\n",
    "tutorials_df = pd.DataFrame(tutorials)\n",
    "print(\"\\n📚 CAN SLIM 튜토리얼 구성\")\n",
    "print(\"=\"*80)\n",
    "for idx, row in tutorials_df.iterrows():\n",
    "    print(f\"\\n{idx+1}. {row['title']}\")\n",
    "    print(f\"   📝 파일: {row['notebook']}\")\n",
    "    print(f\"   📖 설명: {row['description']}\")\n",
    "    print(f\"   🔑 주요 내용: {', '.join(row['key_topics'])}\")"
   ]
  },
  {
   "cell_type": "markdown",
   "metadata": {},
   "source": [
    "## 샘플 데이터로 간단한 예제\n",
    "\n",
    "### 삼성전자 데이터로 기본 분석 예시"
   ]
  },
  {
   "cell_type": "code",
   "execution_count": 10,
   "metadata": {},
   "outputs": [
    {
     "name": "stdout",
     "output_type": "stream",
     "text": [
      "삼성전자(005930) 데이터 수집 중...\n",
      "\n",
      "주가 데이터 수집 완료: 64일\n",
      "               시가     고가     저가     종가       거래량   등락률\n",
      "날짜                                                    \n",
      "2025-09-01  68400  68600  67500  67600  12002343 -3.01\n",
      "2025-09-02  67800  69500  67800  69100  10604028  2.22\n",
      "2025-09-03  69200  69800  68800  69800  10283009  1.01\n",
      "2025-09-04  69500  70100  69300  70100  12284414  0.43\n",
      "2025-09-05  70300  70400  69700  69750   2811610 -0.50\n",
      "\n",
      "재무 데이터 수집 완료\n",
      "              BPS   PER  PBR   EPS  DIV   DPS\n",
      "날짜                                           \n",
      "2025-09-01  57951 13.66 1.17  4950 2.14  1446\n",
      "2025-09-02  57951 13.96 1.19  4950 2.09  1446\n",
      "2025-09-03  57951 14.10 1.20  4950 2.07  1446\n",
      "2025-09-04  57951 14.16 1.21  4950 2.06  1446\n",
      "2025-09-05  57951 14.13 1.21  4950 2.07  1446\n"
     ]
    }
   ],
   "source": [
    "# 삼성전자 데이터 가져오기\n",
    "ticker = \"005930\"  # 삼성전자\n",
    "start_date, end_date = get_date_strings(3)  # 최근 3개월\n",
    "\n",
    "print(f\"삼성전자({ticker}) 데이터 수집 중...\")\n",
    "\n",
    "# 주가 데이터\n",
    "price_data = stock.get_market_ohlcv_by_date(start_date, end_date, ticker)\n",
    "print(f\"\\n주가 데이터 수집 완료: {len(price_data)}일\")\n",
    "print(price_data.tail())\n",
    "\n",
    "# 기본 재무 데이터\n",
    "fundamental = stock.get_market_fundamental_by_date(start_date, end_date, ticker)\n",
    "print(f\"\\n재무 데이터 수집 완료\")\n",
    "print(fundamental.tail())"
   ]
  },
  {
   "cell_type": "markdown",
   "metadata": {},
   "source": [
    "### 간단한 시각화"
   ]
  },
  {
   "cell_type": "code",
   "execution_count": 11,
   "metadata": {},
   "outputs": [
    {
     "data": {
      "application/vnd.plotly.v1+json": {
       "config": {
        "plotlyServerURL": "https://plot.ly"
       },
       "data": [
        {
         "close": {
          "bdata": "mOkAAEDnAAD86QAAbOgAALzjAABw3wAA9OIAAJjpAABA5wAAbOgAAJDiAABU7AAAdO8AACjrAACA7QAAmOkAACjrAACA7QAAOPkAAET3AAAE8QAA2O8AAPDrAABI7gAAiPQAACT0AADU+AAAvPwAAIwEAQAcBgEA2AgBANABAQBgAwEA0AEBAGwBAQAAEwEAyBMBAJgbAQDoFgEAJA0BAEQQAQAMEQEAwAwBAGQTAQB4GAEAWBUBALwVAQDcGAEAsBcBAHARAQBwEQEAZBMBAMgTAQDoFgEATBcBAJwSAQDIEwEA4A8BAEQQAQAQCAEA7A0BAKgQAQDUEQEAdhABAA==",
          "dtype": "i4"
         },
         "high": {
          "bdata": "8OsAAMTqAADE6gAAYOoAACjrAAD04gAAmOkAAJjpAAC47AAAmOkAAITkAAC47AAAoPAAAHTvAACg8AAAEO8AAKzuAADk7QAAOPkAALz8AABE9wAAwPMAANjvAAAQ7wAAUPUAAIj0AAA4+QAAvPwAAPAEAQDYCAEAwAwBAJQLAQDEAwEA8AQBAPwCAQAAEwEAkBQBAOQfAQAQIQEAQBkBADgSAQBMFwEAGA8BAFgVAQDQGgEApBkBANAaAQCkGQEA3BgBACAWAQAsFAEALBQBANwYAQB4GAEAeBgBALwVAQD0FAEAABMBAGQTAQD4CwEAfA8BAKgQAQDUEQEAABMBAA==",
          "dtype": "i4"
         },
         "low": {
          "bdata": "bOgAALDlAAAI6AAApOcAAGThAABE3gAAOOAAACziAAB45gAA3OYAAADhAACk5wAAjOsAAPzpAABg6gAAmOkAACjrAACY6QAArO4AABj2AAAE8QAASO4AACjrAADw6wAAEO8AAGjxAAAw8gAAfPYAAJD7AAD8AgEAgAYBAEAAAQCE/QAAbAEBANz/AACABgEAwAwBAMgTAQBYFQEAwAwBAFwMAQBEEAEAzAoBAEQQAQAsFAEAkBQBALwVAQDoFgEAIBYBAHARAQBEEAEAGA8BAMgTAQCQFAEAWBUBAJwSAQCoEAEA4A8BAEQQAQCsBwEA2AgBAMAMAQC0DgEARBABAA==",
          "dtype": "i4"
         },
         "name": "주가",
         "open": {
          "bdata": "8OsAAGDqAABs6AAANOkAACjrAACQ4gAAyOEAAJDiAABU7AAACOgAACDkAAAI6AAAPPAAAHTvAADE6gAAEO8AAPDrAAAo6wAAdO8AALz8AAC09QAAoPAAANjvAAC47AAAdO8AAFzzAABc8wAA1PgAAGwBAQC4BQEASAcBAAQKAQCYAgEAxAMBAKQAAQBoCgEAkBQBAFgVAQAoHQEAOBIBAHwPAQBYFQEAUA4BAJAUAQBYFQEAQBkBALwVAQDcGAEA3BgBALwVAQAAEwEA1BEBAEwXAQAUGAEAFBgBAJAUAQDUEQEA1BEBANQRAQAwCwEA2AgBAFAOAQB8DwEAnBIBAA==",
          "dtype": "i4"
         },
         "type": "candlestick",
         "x": [
          "2025-06-09T00:00:00",
          "2025-06-10T00:00:00",
          "2025-06-11T00:00:00",
          "2025-06-12T00:00:00",
          "2025-06-13T00:00:00",
          "2025-06-16T00:00:00",
          "2025-06-17T00:00:00",
          "2025-06-18T00:00:00",
          "2025-06-19T00:00:00",
          "2025-06-20T00:00:00",
          "2025-06-23T00:00:00",
          "2025-06-24T00:00:00",
          "2025-06-25T00:00:00",
          "2025-06-26T00:00:00",
          "2025-06-27T00:00:00",
          "2025-06-30T00:00:00",
          "2025-07-01T00:00:00",
          "2025-07-02T00:00:00",
          "2025-07-03T00:00:00",
          "2025-07-04T00:00:00",
          "2025-07-07T00:00:00",
          "2025-07-08T00:00:00",
          "2025-07-09T00:00:00",
          "2025-07-10T00:00:00",
          "2025-07-11T00:00:00",
          "2025-07-14T00:00:00",
          "2025-07-15T00:00:00",
          "2025-07-16T00:00:00",
          "2025-07-17T00:00:00",
          "2025-07-18T00:00:00",
          "2025-07-21T00:00:00",
          "2025-07-22T00:00:00",
          "2025-07-23T00:00:00",
          "2025-07-24T00:00:00",
          "2025-07-25T00:00:00",
          "2025-07-28T00:00:00",
          "2025-07-29T00:00:00",
          "2025-07-30T00:00:00",
          "2025-07-31T00:00:00",
          "2025-08-01T00:00:00",
          "2025-08-04T00:00:00",
          "2025-08-05T00:00:00",
          "2025-08-06T00:00:00",
          "2025-08-07T00:00:00",
          "2025-08-08T00:00:00",
          "2025-08-11T00:00:00",
          "2025-08-12T00:00:00",
          "2025-08-13T00:00:00",
          "2025-08-14T00:00:00",
          "2025-08-18T00:00:00",
          "2025-08-19T00:00:00",
          "2025-08-20T00:00:00",
          "2025-08-21T00:00:00",
          "2025-08-22T00:00:00",
          "2025-08-25T00:00:00",
          "2025-08-26T00:00:00",
          "2025-08-27T00:00:00",
          "2025-08-28T00:00:00",
          "2025-08-29T00:00:00",
          "2025-09-01T00:00:00",
          "2025-09-02T00:00:00",
          "2025-09-03T00:00:00",
          "2025-09-04T00:00:00",
          "2025-09-05T00:00:00"
         ],
         "xaxis": "x",
         "yaxis": "y"
        },
        {
         "marker": {
          "color": "lightblue"
         },
         "name": "거래량",
         "type": "bar",
         "x": [
          "2025-06-09T00:00:00",
          "2025-06-10T00:00:00",
          "2025-06-11T00:00:00",
          "2025-06-12T00:00:00",
          "2025-06-13T00:00:00",
          "2025-06-16T00:00:00",
          "2025-06-17T00:00:00",
          "2025-06-18T00:00:00",
          "2025-06-19T00:00:00",
          "2025-06-20T00:00:00",
          "2025-06-23T00:00:00",
          "2025-06-24T00:00:00",
          "2025-06-25T00:00:00",
          "2025-06-26T00:00:00",
          "2025-06-27T00:00:00",
          "2025-06-30T00:00:00",
          "2025-07-01T00:00:00",
          "2025-07-02T00:00:00",
          "2025-07-03T00:00:00",
          "2025-07-04T00:00:00",
          "2025-07-07T00:00:00",
          "2025-07-08T00:00:00",
          "2025-07-09T00:00:00",
          "2025-07-10T00:00:00",
          "2025-07-11T00:00:00",
          "2025-07-14T00:00:00",
          "2025-07-15T00:00:00",
          "2025-07-16T00:00:00",
          "2025-07-17T00:00:00",
          "2025-07-18T00:00:00",
          "2025-07-21T00:00:00",
          "2025-07-22T00:00:00",
          "2025-07-23T00:00:00",
          "2025-07-24T00:00:00",
          "2025-07-25T00:00:00",
          "2025-07-28T00:00:00",
          "2025-07-29T00:00:00",
          "2025-07-30T00:00:00",
          "2025-07-31T00:00:00",
          "2025-08-01T00:00:00",
          "2025-08-04T00:00:00",
          "2025-08-05T00:00:00",
          "2025-08-06T00:00:00",
          "2025-08-07T00:00:00",
          "2025-08-08T00:00:00",
          "2025-08-11T00:00:00",
          "2025-08-12T00:00:00",
          "2025-08-13T00:00:00",
          "2025-08-14T00:00:00",
          "2025-08-18T00:00:00",
          "2025-08-19T00:00:00",
          "2025-08-20T00:00:00",
          "2025-08-21T00:00:00",
          "2025-08-22T00:00:00",
          "2025-08-25T00:00:00",
          "2025-08-26T00:00:00",
          "2025-08-27T00:00:00",
          "2025-08-28T00:00:00",
          "2025-08-29T00:00:00",
          "2025-09-01T00:00:00",
          "2025-09-02T00:00:00",
          "2025-09-03T00:00:00",
          "2025-09-04T00:00:00",
          "2025-09-05T00:00:00"
         ],
         "xaxis": "x2",
         "y": {
          "bdata": "OzgrASCM6QDurs8A6+sOAbvyOwEowlIBS/e0AeHeDAH2ggEBu8ITAQ6P/AArNmoBrDJtATwOKAE2mAgBFhUFAS9M0AAPneUAv+boAV9hagGk6QUB3G80AeeJCwFZWeEAKhAkAcb3zgDaZxkBZJpfAWvwWQKreG0BDG8OAU7TPQGSXe8A4S3BAA5OewCUIRsC3CiuAeRqEgKIZZUBhsxuAaiG4QBHntsAz2G/ANUB5QBoX1MBjUCtAJgN8QBOxbsAiki2AMdzzwDauKAAjDIKAbmIHwH4j40A2tqdAMd+4AANk6AAqKqwANtBsgAnJLcA/M2hAAHonAD+cbsA2uYqAA==",
          "dtype": "i4"
         },
         "yaxis": "y2"
        }
       ],
       "layout": {
        "annotations": [
         {
          "font": {
           "size": 16
          },
          "showarrow": false,
          "text": "주가",
          "x": 0.5,
          "xanchor": "center",
          "xref": "paper",
          "y": 0.9999999999999999,
          "yanchor": "bottom",
          "yref": "paper"
         },
         {
          "font": {
           "size": 16
          },
          "showarrow": false,
          "text": "거래량",
          "x": 0.5,
          "xanchor": "center",
          "xref": "paper",
          "y": 0.291,
          "yanchor": "bottom",
          "yref": "paper"
         }
        ],
        "height": 600,
        "showlegend": false,
        "template": {
         "data": {
          "bar": [
           {
            "error_x": {
             "color": "#2a3f5f"
            },
            "error_y": {
             "color": "#2a3f5f"
            },
            "marker": {
             "line": {
              "color": "#E5ECF6",
              "width": 0.5
             },
             "pattern": {
              "fillmode": "overlay",
              "size": 10,
              "solidity": 0.2
             }
            },
            "type": "bar"
           }
          ],
          "barpolar": [
           {
            "marker": {
             "line": {
              "color": "#E5ECF6",
              "width": 0.5
             },
             "pattern": {
              "fillmode": "overlay",
              "size": 10,
              "solidity": 0.2
             }
            },
            "type": "barpolar"
           }
          ],
          "carpet": [
           {
            "aaxis": {
             "endlinecolor": "#2a3f5f",
             "gridcolor": "white",
             "linecolor": "white",
             "minorgridcolor": "white",
             "startlinecolor": "#2a3f5f"
            },
            "baxis": {
             "endlinecolor": "#2a3f5f",
             "gridcolor": "white",
             "linecolor": "white",
             "minorgridcolor": "white",
             "startlinecolor": "#2a3f5f"
            },
            "type": "carpet"
           }
          ],
          "choropleth": [
           {
            "colorbar": {
             "outlinewidth": 0,
             "ticks": ""
            },
            "type": "choropleth"
           }
          ],
          "contour": [
           {
            "colorbar": {
             "outlinewidth": 0,
             "ticks": ""
            },
            "colorscale": [
             [
              0,
              "#0d0887"
             ],
             [
              0.1111111111111111,
              "#46039f"
             ],
             [
              0.2222222222222222,
              "#7201a8"
             ],
             [
              0.3333333333333333,
              "#9c179e"
             ],
             [
              0.4444444444444444,
              "#bd3786"
             ],
             [
              0.5555555555555556,
              "#d8576b"
             ],
             [
              0.6666666666666666,
              "#ed7953"
             ],
             [
              0.7777777777777778,
              "#fb9f3a"
             ],
             [
              0.8888888888888888,
              "#fdca26"
             ],
             [
              1,
              "#f0f921"
             ]
            ],
            "type": "contour"
           }
          ],
          "contourcarpet": [
           {
            "colorbar": {
             "outlinewidth": 0,
             "ticks": ""
            },
            "type": "contourcarpet"
           }
          ],
          "heatmap": [
           {
            "colorbar": {
             "outlinewidth": 0,
             "ticks": ""
            },
            "colorscale": [
             [
              0,
              "#0d0887"
             ],
             [
              0.1111111111111111,
              "#46039f"
             ],
             [
              0.2222222222222222,
              "#7201a8"
             ],
             [
              0.3333333333333333,
              "#9c179e"
             ],
             [
              0.4444444444444444,
              "#bd3786"
             ],
             [
              0.5555555555555556,
              "#d8576b"
             ],
             [
              0.6666666666666666,
              "#ed7953"
             ],
             [
              0.7777777777777778,
              "#fb9f3a"
             ],
             [
              0.8888888888888888,
              "#fdca26"
             ],
             [
              1,
              "#f0f921"
             ]
            ],
            "type": "heatmap"
           }
          ],
          "histogram": [
           {
            "marker": {
             "pattern": {
              "fillmode": "overlay",
              "size": 10,
              "solidity": 0.2
             }
            },
            "type": "histogram"
           }
          ],
          "histogram2d": [
           {
            "colorbar": {
             "outlinewidth": 0,
             "ticks": ""
            },
            "colorscale": [
             [
              0,
              "#0d0887"
             ],
             [
              0.1111111111111111,
              "#46039f"
             ],
             [
              0.2222222222222222,
              "#7201a8"
             ],
             [
              0.3333333333333333,
              "#9c179e"
             ],
             [
              0.4444444444444444,
              "#bd3786"
             ],
             [
              0.5555555555555556,
              "#d8576b"
             ],
             [
              0.6666666666666666,
              "#ed7953"
             ],
             [
              0.7777777777777778,
              "#fb9f3a"
             ],
             [
              0.8888888888888888,
              "#fdca26"
             ],
             [
              1,
              "#f0f921"
             ]
            ],
            "type": "histogram2d"
           }
          ],
          "histogram2dcontour": [
           {
            "colorbar": {
             "outlinewidth": 0,
             "ticks": ""
            },
            "colorscale": [
             [
              0,
              "#0d0887"
             ],
             [
              0.1111111111111111,
              "#46039f"
             ],
             [
              0.2222222222222222,
              "#7201a8"
             ],
             [
              0.3333333333333333,
              "#9c179e"
             ],
             [
              0.4444444444444444,
              "#bd3786"
             ],
             [
              0.5555555555555556,
              "#d8576b"
             ],
             [
              0.6666666666666666,
              "#ed7953"
             ],
             [
              0.7777777777777778,
              "#fb9f3a"
             ],
             [
              0.8888888888888888,
              "#fdca26"
             ],
             [
              1,
              "#f0f921"
             ]
            ],
            "type": "histogram2dcontour"
           }
          ],
          "mesh3d": [
           {
            "colorbar": {
             "outlinewidth": 0,
             "ticks": ""
            },
            "type": "mesh3d"
           }
          ],
          "parcoords": [
           {
            "line": {
             "colorbar": {
              "outlinewidth": 0,
              "ticks": ""
             }
            },
            "type": "parcoords"
           }
          ],
          "pie": [
           {
            "automargin": true,
            "type": "pie"
           }
          ],
          "scatter": [
           {
            "fillpattern": {
             "fillmode": "overlay",
             "size": 10,
             "solidity": 0.2
            },
            "type": "scatter"
           }
          ],
          "scatter3d": [
           {
            "line": {
             "colorbar": {
              "outlinewidth": 0,
              "ticks": ""
             }
            },
            "marker": {
             "colorbar": {
              "outlinewidth": 0,
              "ticks": ""
             }
            },
            "type": "scatter3d"
           }
          ],
          "scattercarpet": [
           {
            "marker": {
             "colorbar": {
              "outlinewidth": 0,
              "ticks": ""
             }
            },
            "type": "scattercarpet"
           }
          ],
          "scattergeo": [
           {
            "marker": {
             "colorbar": {
              "outlinewidth": 0,
              "ticks": ""
             }
            },
            "type": "scattergeo"
           }
          ],
          "scattergl": [
           {
            "marker": {
             "colorbar": {
              "outlinewidth": 0,
              "ticks": ""
             }
            },
            "type": "scattergl"
           }
          ],
          "scattermap": [
           {
            "marker": {
             "colorbar": {
              "outlinewidth": 0,
              "ticks": ""
             }
            },
            "type": "scattermap"
           }
          ],
          "scattermapbox": [
           {
            "marker": {
             "colorbar": {
              "outlinewidth": 0,
              "ticks": ""
             }
            },
            "type": "scattermapbox"
           }
          ],
          "scatterpolar": [
           {
            "marker": {
             "colorbar": {
              "outlinewidth": 0,
              "ticks": ""
             }
            },
            "type": "scatterpolar"
           }
          ],
          "scatterpolargl": [
           {
            "marker": {
             "colorbar": {
              "outlinewidth": 0,
              "ticks": ""
             }
            },
            "type": "scatterpolargl"
           }
          ],
          "scatterternary": [
           {
            "marker": {
             "colorbar": {
              "outlinewidth": 0,
              "ticks": ""
             }
            },
            "type": "scatterternary"
           }
          ],
          "surface": [
           {
            "colorbar": {
             "outlinewidth": 0,
             "ticks": ""
            },
            "colorscale": [
             [
              0,
              "#0d0887"
             ],
             [
              0.1111111111111111,
              "#46039f"
             ],
             [
              0.2222222222222222,
              "#7201a8"
             ],
             [
              0.3333333333333333,
              "#9c179e"
             ],
             [
              0.4444444444444444,
              "#bd3786"
             ],
             [
              0.5555555555555556,
              "#d8576b"
             ],
             [
              0.6666666666666666,
              "#ed7953"
             ],
             [
              0.7777777777777778,
              "#fb9f3a"
             ],
             [
              0.8888888888888888,
              "#fdca26"
             ],
             [
              1,
              "#f0f921"
             ]
            ],
            "type": "surface"
           }
          ],
          "table": [
           {
            "cells": {
             "fill": {
              "color": "#EBF0F8"
             },
             "line": {
              "color": "white"
             }
            },
            "header": {
             "fill": {
              "color": "#C8D4E3"
             },
             "line": {
              "color": "white"
             }
            },
            "type": "table"
           }
          ]
         },
         "layout": {
          "annotationdefaults": {
           "arrowcolor": "#2a3f5f",
           "arrowhead": 0,
           "arrowwidth": 1
          },
          "autotypenumbers": "strict",
          "coloraxis": {
           "colorbar": {
            "outlinewidth": 0,
            "ticks": ""
           }
          },
          "colorscale": {
           "diverging": [
            [
             0,
             "#8e0152"
            ],
            [
             0.1,
             "#c51b7d"
            ],
            [
             0.2,
             "#de77ae"
            ],
            [
             0.3,
             "#f1b6da"
            ],
            [
             0.4,
             "#fde0ef"
            ],
            [
             0.5,
             "#f7f7f7"
            ],
            [
             0.6,
             "#e6f5d0"
            ],
            [
             0.7,
             "#b8e186"
            ],
            [
             0.8,
             "#7fbc41"
            ],
            [
             0.9,
             "#4d9221"
            ],
            [
             1,
             "#276419"
            ]
           ],
           "sequential": [
            [
             0,
             "#0d0887"
            ],
            [
             0.1111111111111111,
             "#46039f"
            ],
            [
             0.2222222222222222,
             "#7201a8"
            ],
            [
             0.3333333333333333,
             "#9c179e"
            ],
            [
             0.4444444444444444,
             "#bd3786"
            ],
            [
             0.5555555555555556,
             "#d8576b"
            ],
            [
             0.6666666666666666,
             "#ed7953"
            ],
            [
             0.7777777777777778,
             "#fb9f3a"
            ],
            [
             0.8888888888888888,
             "#fdca26"
            ],
            [
             1,
             "#f0f921"
            ]
           ],
           "sequentialminus": [
            [
             0,
             "#0d0887"
            ],
            [
             0.1111111111111111,
             "#46039f"
            ],
            [
             0.2222222222222222,
             "#7201a8"
            ],
            [
             0.3333333333333333,
             "#9c179e"
            ],
            [
             0.4444444444444444,
             "#bd3786"
            ],
            [
             0.5555555555555556,
             "#d8576b"
            ],
            [
             0.6666666666666666,
             "#ed7953"
            ],
            [
             0.7777777777777778,
             "#fb9f3a"
            ],
            [
             0.8888888888888888,
             "#fdca26"
            ],
            [
             1,
             "#f0f921"
            ]
           ]
          },
          "colorway": [
           "#636efa",
           "#EF553B",
           "#00cc96",
           "#ab63fa",
           "#FFA15A",
           "#19d3f3",
           "#FF6692",
           "#B6E880",
           "#FF97FF",
           "#FECB52"
          ],
          "font": {
           "color": "#2a3f5f"
          },
          "geo": {
           "bgcolor": "white",
           "lakecolor": "white",
           "landcolor": "#E5ECF6",
           "showlakes": true,
           "showland": true,
           "subunitcolor": "white"
          },
          "hoverlabel": {
           "align": "left"
          },
          "hovermode": "closest",
          "mapbox": {
           "style": "light"
          },
          "paper_bgcolor": "white",
          "plot_bgcolor": "#E5ECF6",
          "polar": {
           "angularaxis": {
            "gridcolor": "white",
            "linecolor": "white",
            "ticks": ""
           },
           "bgcolor": "#E5ECF6",
           "radialaxis": {
            "gridcolor": "white",
            "linecolor": "white",
            "ticks": ""
           }
          },
          "scene": {
           "xaxis": {
            "backgroundcolor": "#E5ECF6",
            "gridcolor": "white",
            "gridwidth": 2,
            "linecolor": "white",
            "showbackground": true,
            "ticks": "",
            "zerolinecolor": "white"
           },
           "yaxis": {
            "backgroundcolor": "#E5ECF6",
            "gridcolor": "white",
            "gridwidth": 2,
            "linecolor": "white",
            "showbackground": true,
            "ticks": "",
            "zerolinecolor": "white"
           },
           "zaxis": {
            "backgroundcolor": "#E5ECF6",
            "gridcolor": "white",
            "gridwidth": 2,
            "linecolor": "white",
            "showbackground": true,
            "ticks": "",
            "zerolinecolor": "white"
           }
          },
          "shapedefaults": {
           "line": {
            "color": "#2a3f5f"
           }
          },
          "ternary": {
           "aaxis": {
            "gridcolor": "white",
            "linecolor": "white",
            "ticks": ""
           },
           "baxis": {
            "gridcolor": "white",
            "linecolor": "white",
            "ticks": ""
           },
           "bgcolor": "#E5ECF6",
           "caxis": {
            "gridcolor": "white",
            "linecolor": "white",
            "ticks": ""
           }
          },
          "title": {
           "x": 0.05
          },
          "xaxis": {
           "automargin": true,
           "gridcolor": "white",
           "linecolor": "white",
           "ticks": "",
           "title": {
            "standoff": 15
           },
           "zerolinecolor": "white",
           "zerolinewidth": 2
          },
          "yaxis": {
           "automargin": true,
           "gridcolor": "white",
           "linecolor": "white",
           "ticks": "",
           "title": {
            "standoff": 15
           },
           "zerolinecolor": "white",
           "zerolinewidth": 2
          }
         }
        },
        "title": {
         "text": "삼성전자 주가 차트 (20250607 ~ 20250905)"
        },
        "xaxis": {
         "anchor": "y",
         "domain": [
          0,
          1
         ],
         "matches": "x2",
         "rangeslider": {
          "visible": false
         },
         "showticklabels": false
        },
        "xaxis2": {
         "anchor": "y2",
         "domain": [
          0,
          1
         ],
         "rangeslider": {
          "visible": false
         },
         "title": {
          "text": "날짜"
         }
        },
        "yaxis": {
         "anchor": "x",
         "domain": [
          0.32099999999999995,
          0.9999999999999999
         ],
         "title": {
          "text": "주가 (원)"
         }
        },
        "yaxis2": {
         "anchor": "x2",
         "domain": [
          0,
          0.291
         ],
         "title": {
          "text": "거래량"
         }
        }
       }
      }
     },
     "metadata": {},
     "output_type": "display_data"
    }
   ],
   "source": [
    "# 주가 차트 그리기\n",
    "fig = make_subplots(\n",
    "    rows=2, cols=1,\n",
    "    shared_xaxes=True,\n",
    "    vertical_spacing=0.03,\n",
    "    row_heights=[0.7, 0.3],\n",
    "    subplot_titles=('주가', '거래량')\n",
    ")\n",
    "\n",
    "# 캔들스틱 차트\n",
    "fig.add_trace(\n",
    "    go.Candlestick(\n",
    "        x=price_data.index,\n",
    "        open=price_data['시가'],\n",
    "        high=price_data['고가'],\n",
    "        low=price_data['저가'],\n",
    "        close=price_data['종가'],\n",
    "        name='주가'\n",
    "    ),\n",
    "    row=1, col=1\n",
    ")\n",
    "\n",
    "# 거래량\n",
    "fig.add_trace(\n",
    "    go.Bar(\n",
    "        x=price_data.index,\n",
    "        y=price_data['거래량'],\n",
    "        name='거래량',\n",
    "        marker_color='lightblue'\n",
    "    ),\n",
    "    row=2, col=1\n",
    ")\n",
    "\n",
    "fig.update_layout(\n",
    "    title=f'삼성전자 주가 차트 ({start_date} ~ {end_date})',\n",
    "    xaxis2_title='날짜',\n",
    "    yaxis_title='주가 (원)',\n",
    "    yaxis2_title='거래량',\n",
    "    height=600,\n",
    "    showlegend=False\n",
    ")\n",
    "\n",
    "fig.update_xaxes(rangeslider_visible=False)\n",
    "fig.show()"
   ]
  },
  {
   "cell_type": "markdown",
   "metadata": {},
   "source": [
    "## 마무리\n",
    "\n",
    "이 노트북에서는 CAN SLIM 전략의 기본 개념과 환경 설정을 완료했습니다.\n",
    "\n",
    "### 다음 단계\n",
    "1. **01_data_collection.ipynb**: pykrx를 활용한 체계적인 데이터 수집 방법 학습\n",
    "2. 각 CAN SLIM 지표별 상세 분석 방법 학습\n",
    "3. 통합 스크리닝 시스템 구축\n",
    "\n",
    "### 참고사항\n",
    "- API 호출 제한을 피하기 위해 적절한 딜레이를 추가하세요\n",
    "- 대량 데이터 수집 시 데이터를 로컬에 저장하여 재사용하세요\n",
    "- 실제 투자 결정은 추가적인 검증과 리스크 관리가 필요합니다\n",
    "\n",
    "**Happy Investing! 🚀**"
   ]
  }
 ],
 "metadata": {
  "kernelspec": {
   "display_name": "ai",
   "language": "python",
   "name": "python3"
  },
  "language_info": {
   "codemirror_mode": {
    "name": "ipython",
    "version": 3
   },
   "file_extension": ".py",
   "mimetype": "text/x-python",
   "name": "python",
   "nbconvert_exporter": "python",
   "pygments_lexer": "ipython3",
   "version": "3.10.18"
  }
 },
 "nbformat": 4,
 "nbformat_minor": 4
}
