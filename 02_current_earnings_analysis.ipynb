{
 "cells": [
  {
   "cell_type": "markdown",
   "metadata": {},
   "source": [
    "# 02. C - Current Earnings (현재 분기 실적 분석)\n",
    "\n",
    "## 학습 목표\n",
    "- 분기별 EPS 성장률 계산 방법\n",
    "- 매출 성장률 분석\n",
    "- 실적 가속화 패턴 감지\n",
    "- 한국 시장에서의 분기 실적 데이터 처리\n",
    "\n",
    "## CAN SLIM 'C' 기준\n",
    "- **분기 EPS 성장률**: 전년 동기 대비 25% 이상 (권장: 50% 이상)\n",
    "- **분기 매출 성장률**: 전년 동기 대비 25% 이상\n",
    "- **가속하는 성장**: 최근 3분기 연속 EPS 성장률 증가"
   ]
  },
  {
   "cell_type": "code",
   "execution_count": 1,
   "metadata": {},
   "outputs": [
    {
     "name": "stdout",
     "output_type": "stream",
     "text": [
      "분석 기간: 20220906 ~ 20250905\n"
     ]
    }
   ],
   "source": [
    "import pandas as pd\n",
    "import numpy as np\n",
    "from datetime import datetime, timedelta\n",
    "from pykrx import stock\n",
    "import plotly.graph_objects as go\n",
    "from plotly.subplots import make_subplots\n",
    "import warnings\n",
    "warnings.filterwarnings('ignore')\n",
    "\n",
    "# 날짜 설정\n",
    "end_date = datetime.now()\n",
    "start_date = end_date - timedelta(days=365*3)  # 3년 데이터 (분기 분석용)\n",
    "\n",
    "start_str = start_date.strftime('%Y%m%d')\n",
    "end_str = end_date.strftime('%Y%m%d')\n",
    "\n",
    "print(f\"분석 기간: {start_str} ~ {end_str}\")"
   ]
  },
  {
   "cell_type": "markdown",
   "metadata": {},
   "source": [
    "## 1. 분기별 재무 데이터 수집 및 정리"
   ]
  },
  {
   "cell_type": "code",
   "execution_count": 2,
   "metadata": {},
   "outputs": [
    {
     "name": "stdout",
     "output_type": "stream",
     "text": [
      "삼성전자 분기별 데이터:\n",
      "               EPS    PER   PBR  estimated_sales\n",
      "year_quarter                                    \n",
      "2023Q4        8057   9.74  1.54        4834200.0\n",
      "2024Q1        8057  10.23  1.62        4914770.0\n",
      "2024Q2        2131  38.24  1.57        1278600.0\n",
      "2024Q3        2131  28.86  1.18        1321220.0\n",
      "2024Q4        2131  24.96  1.02        1299910.0\n",
      "2025Q1        2131  27.12  1.11        1235980.0\n",
      "2025Q2        4950  12.08  1.03        2970000.0\n",
      "2025Q3        4950  14.12  1.21        2376000.0\n"
     ]
    }
   ],
   "source": [
    "def get_quarterly_financials(ticker, start, end):\n",
    "    \"\"\"\n",
    "    분기별 재무 데이터 수집 및 정리\n",
    "    \n",
    "    Note: pykrx는 일별 데이터를 제공하므로 분기별로 집계 필요\n",
    "    \"\"\"\n",
    "    # 기본 재무 데이터\n",
    "    fund_data = stock.get_market_fundamental_by_date(start, end, ticker)\n",
    "    \n",
    "    # 주가 데이터 (매출 추정용)\n",
    "    price_data = stock.get_market_ohlcv_by_date(start, end, ticker)\n",
    "    \n",
    "    # 분기별 집계\n",
    "    fund_data['year'] = fund_data.index.year\n",
    "    fund_data['quarter'] = fund_data.index.quarter\n",
    "    fund_data['year_quarter'] = fund_data['year'].astype(str) + 'Q' + fund_data['quarter'].astype(str)\n",
    "    \n",
    "    # 각 분기의 마지막 값 사용\n",
    "    quarterly_data = fund_data.groupby('year_quarter').last()\n",
    "    \n",
    "    # 시가총액으로 매출 추정 (PER과 EPS 활용)\n",
    "    quarterly_data['market_cap'] = quarterly_data['EPS'] * quarterly_data['PER'] * fund_data.groupby('year_quarter')['PER'].count()\n",
    "    quarterly_data['estimated_sales'] = quarterly_data['market_cap'] / quarterly_data['PER'] * 10  # 추정치\n",
    "    \n",
    "    return quarterly_data\n",
    "\n",
    "# 삼성전자 분기 데이터\n",
    "samsung_quarterly = get_quarterly_financials('005930', start_str, end_str)\n",
    "print(\"삼성전자 분기별 데이터:\")\n",
    "print(samsung_quarterly[['EPS', 'PER', 'PBR', 'estimated_sales']].tail(8))"
   ]
  },
  {
   "cell_type": "markdown",
   "metadata": {},
   "source": [
    "## 2. EPS 성장률 계산"
   ]
  },
  {
   "cell_type": "code",
   "execution_count": 3,
   "metadata": {},
   "outputs": [
    {
     "name": "stdout",
     "output_type": "stream",
     "text": [
      "EPS 성장률 분석:\n",
      "               EPS     EPS_YoY     EPS_QoQ  EPS_Acceleration  \\\n",
      "year_quarter                                                   \n",
      "2023Q4        8057   39.466851    0.000000          0.000000   \n",
      "2024Q1        8057   39.466851    0.000000          0.000000   \n",
      "2024Q2        2131  -73.550949  -73.550949       -113.017801   \n",
      "2024Q3        2131  -73.550949    0.000000          0.000000   \n",
      "2024Q4        2131  -73.550949    0.000000          0.000000   \n",
      "2025Q1        2131  -73.550949    0.000000          0.000000   \n",
      "2025Q2        4950  132.285312  132.285312        205.836262   \n",
      "2025Q3        4950  132.285312    0.000000          0.000000   \n",
      "\n",
      "              Consecutive_Acceleration  \n",
      "year_quarter                            \n",
      "2023Q4                           False  \n",
      "2024Q1                           False  \n",
      "2024Q2                           False  \n",
      "2024Q3                           False  \n",
      "2024Q4                           False  \n",
      "2025Q1                           False  \n",
      "2025Q2                           False  \n",
      "2025Q3                           False  \n",
      "\n",
      "최근 분기 EPS YoY 성장률: 132.3%\n",
      "CAN SLIM 기준 (25% 이상): ✅ 충족\n",
      "우수 기준 (50% 이상): ✅ 충족\n"
     ]
    }
   ],
   "source": [
    "def calculate_eps_growth(quarterly_data):\n",
    "    \"\"\"\n",
    "    분기별 EPS 성장률 계산\n",
    "    \"\"\"\n",
    "    df = quarterly_data.copy()\n",
    "    \n",
    "    # 전년 동기 대비 성장률 (YoY)\n",
    "    df['EPS_YoY'] = df['EPS'].pct_change(periods=4) * 100\n",
    "    \n",
    "    # 전분기 대비 성장률 (QoQ)\n",
    "    df['EPS_QoQ'] = df['EPS'].pct_change(periods=1) * 100\n",
    "    \n",
    "    # 성장률 가속화 체크 (최근 3분기)\n",
    "    df['EPS_Acceleration'] = df['EPS_YoY'].diff()\n",
    "    \n",
    "    # 3분기 연속 성장 가속화 체크\n",
    "    df['Consecutive_Acceleration'] = (df['EPS_Acceleration'] > 0).rolling(window=3).sum() == 3\n",
    "    \n",
    "    return df\n",
    "\n",
    "samsung_growth = calculate_eps_growth(samsung_quarterly)\n",
    "print(\"EPS 성장률 분석:\")\n",
    "print(samsung_growth[['EPS', 'EPS_YoY', 'EPS_QoQ', 'EPS_Acceleration', 'Consecutive_Acceleration']].tail(8))\n",
    "\n",
    "# CAN SLIM 기준 충족 확인\n",
    "latest_eps_growth = samsung_growth['EPS_YoY'].iloc[-1]\n",
    "print(f\"\\n최근 분기 EPS YoY 성장률: {latest_eps_growth:.1f}%\")\n",
    "print(f\"CAN SLIM 기준 (25% 이상): {'✅ 충족' if latest_eps_growth >= 25 else '❌ 미충족'}\")\n",
    "print(f\"우수 기준 (50% 이상): {'✅ 충족' if latest_eps_growth >= 50 else '❌ 미충족'}\")"
   ]
  },
  {
   "cell_type": "markdown",
   "metadata": {},
   "source": [
    "## 3. 매출 성장률 분석"
   ]
  },
  {
   "cell_type": "code",
   "execution_count": 4,
   "metadata": {},
   "outputs": [
    {
     "name": "stdout",
     "output_type": "stream",
     "text": [
      "매출 성장률 분석:\n",
      "              estimated_sales   Sales_YoY   Sales_QoQ  Sales_EPS_Sync\n",
      "year_quarter                                                         \n",
      "2023Q4              4834200.0   34.967921   -3.225806            True\n",
      "2024Q1              4914770.0   37.217386    1.666667            True\n",
      "2024Q2              1278600.0  -73.984540  -73.984540           False\n",
      "2024Q3              1321220.0  -73.550949    3.333333           False\n",
      "2024Q4              1299910.0  -73.110132   -1.612903           False\n",
      "2025Q1              1235980.0  -74.851722   -4.918033           False\n",
      "2025Q2              2970000.0  132.285312  140.295150            True\n",
      "2025Q3              2376000.0   79.833790  -20.000000            True\n",
      "\n",
      "최근 분기 매출 YoY 성장률: 79.8%\n",
      "CAN SLIM 기준 (25% 이상): ✅ 충족\n"
     ]
    }
   ],
   "source": [
    "def calculate_sales_growth(quarterly_data):\n",
    "    \"\"\"\n",
    "    분기별 매출 성장률 계산\n",
    "    \"\"\"\n",
    "    df = quarterly_data.copy()\n",
    "    \n",
    "    # 매출 성장률 (추정치 기반)\n",
    "    df['Sales_YoY'] = df['estimated_sales'].pct_change(periods=4) * 100\n",
    "    df['Sales_QoQ'] = df['estimated_sales'].pct_change(periods=1) * 100\n",
    "    \n",
    "    # 매출과 이익의 동반 성장 체크\n",
    "    df['Sales_EPS_Sync'] = ((df['Sales_YoY'] > 25) & (df['EPS_YoY'] > 25))\n",
    "    \n",
    "    return df\n",
    "\n",
    "samsung_sales = calculate_sales_growth(samsung_growth)\n",
    "print(\"매출 성장률 분석:\")\n",
    "print(samsung_sales[['estimated_sales', 'Sales_YoY', 'Sales_QoQ', 'Sales_EPS_Sync']].tail(8))\n",
    "\n",
    "latest_sales_growth = samsung_sales['Sales_YoY'].iloc[-1]\n",
    "print(f\"\\n최근 분기 매출 YoY 성장률: {latest_sales_growth:.1f}%\")\n",
    "print(f\"CAN SLIM 기준 (25% 이상): {'✅ 충족' if latest_sales_growth >= 25 else '❌ 미충족'}\")"
   ]
  },
  {
   "cell_type": "markdown",
   "metadata": {},
   "source": [
    "## 4. 실적 가속화 패턴 분석"
   ]
  },
  {
   "cell_type": "code",
   "execution_count": 5,
   "metadata": {},
   "outputs": [
    {
     "name": "stdout",
     "output_type": "stream",
     "text": [
      "실적 가속화 분석:\n",
      "최근 4분기 EPS 성장률: [-73.55094948 -73.55094948 132.28531206 132.28531206]\n",
      "가속화 점수: 33%\n",
      "성장 추세: Accelerating\n",
      "최근 2분기 평균: 132.3%\n",
      "이전 2분기 평균: -73.6%\n"
     ]
    }
   ],
   "source": [
    "def analyze_earnings_acceleration(df):\n",
    "    \"\"\"\n",
    "    실적 가속화 패턴 분석\n",
    "    \"\"\"\n",
    "    analysis = {}\n",
    "    \n",
    "    # 최근 4분기 EPS 성장률\n",
    "    recent_4q = df['EPS_YoY'].tail(4).values\n",
    "    analysis['recent_4q_growth'] = recent_4q\n",
    "    \n",
    "    # 가속화 점수 (연속 개선 분기 수)\n",
    "    acceleration_count = 0\n",
    "    for i in range(1, len(recent_4q)):\n",
    "        if recent_4q[i] > recent_4q[i-1]:\n",
    "            acceleration_count += 1\n",
    "    \n",
    "    analysis['acceleration_score'] = acceleration_count / 3 * 100  # 최대 3회 비교\n",
    "    \n",
    "    # 평균 성장률 추세\n",
    "    analysis['avg_growth_recent_2q'] = df['EPS_YoY'].tail(2).mean()\n",
    "    analysis['avg_growth_previous_2q'] = df['EPS_YoY'].tail(4).head(2).mean()\n",
    "    analysis['growth_trend'] = 'Accelerating' if analysis['avg_growth_recent_2q'] > analysis['avg_growth_previous_2q'] else 'Decelerating'\n",
    "    \n",
    "    return analysis\n",
    "\n",
    "acceleration = analyze_earnings_acceleration(samsung_sales)\n",
    "print(\"실적 가속화 분석:\")\n",
    "print(f\"최근 4분기 EPS 성장률: {acceleration['recent_4q_growth']}\")\n",
    "print(f\"가속화 점수: {acceleration['acceleration_score']:.0f}%\")\n",
    "print(f\"성장 추세: {acceleration['growth_trend']}\")\n",
    "print(f\"최근 2분기 평균: {acceleration['avg_growth_recent_2q']:.1f}%\")\n",
    "print(f\"이전 2분기 평균: {acceleration['avg_growth_previous_2q']:.1f}%\")"
   ]
  },
  {
   "cell_type": "markdown",
   "metadata": {},
   "source": [
    "## 5. 시각화"
   ]
  },
  {
   "cell_type": "code",
   "execution_count": 6,
   "metadata": {},
   "outputs": [
    {
     "data": {
      "application/vnd.plotly.v1+json": {
       "config": {
        "plotlyServerURL": "https://plot.ly"
       },
       "data": [
        {
         "marker": {
          "color": "lightblue"
         },
         "name": "EPS",
         "type": "bar",
         "x": [
          "2022Q4",
          "2023Q1",
          "2023Q2",
          "2023Q3",
          "2023Q4",
          "2024Q1",
          "2024Q2",
          "2024Q3",
          "2024Q4",
          "2025Q1",
          "2025Q2",
          "2025Q3"
         ],
         "xaxis": "x",
         "y": {
          "bdata": "kRYAAJEWAAB5HwAAeR8AAHkfAAB5HwAAUwgAAFMIAABTCAAAUwgAAFYTAABWEwAA",
          "dtype": "i4"
         },
         "yaxis": "y"
        },
        {
         "marker": {
          "color": [
           "red",
           "red",
           "red",
           "green",
           "green",
           "green",
           "red",
           "red",
           "red",
           "red",
           "green",
           "green"
          ]
         },
         "name": "EPS YoY %",
         "type": "bar",
         "x": [
          "2022Q4",
          "2023Q1",
          "2023Q2",
          "2023Q3",
          "2023Q4",
          "2024Q1",
          "2024Q2",
          "2024Q3",
          "2024Q4",
          "2025Q1",
          "2025Q2",
          "2025Q3"
         ],
         "xaxis": "x2",
         "y": {
          "bdata": "AAAAAAAA+H8AAAAAAAD4fwAAAAAAAPh/LKGbyMG7Q0AsoZvIwbtDQCyhm8jBu0NArN6gwUJjUsCs3qDBQmNSwKzeoMFCY1LArN6gwUJjUsBe5MFGIYlgQF7kwUYhiWBA",
          "dtype": "f8"
         },
         "yaxis": "y2"
        },
        {
         "line": {
          "color": "purple",
          "width": 2
         },
         "mode": "lines+markers",
         "name": "가속화",
         "type": "scatter",
         "x": [
          "2022Q4",
          "2023Q1",
          "2023Q2",
          "2023Q3",
          "2023Q4",
          "2024Q1",
          "2024Q2",
          "2024Q3",
          "2024Q4",
          "2025Q1",
          "2025Q2",
          "2025Q3"
         ],
         "xaxis": "x3",
         "y": {
          "bdata": "AAAAAAAA+H8AAAAAAAD4fwAAAAAAAPh/AAAAAAAA+H8AAAAAAAAAAAAAAAAAAAAAQq/upSNBXMAAAAAAAAAAAAAAAAAAAAAAAAAAAAAAAAC0U5KnwrppQAAAAAAAAAAA",
          "dtype": "f8"
         },
         "yaxis": "y3"
        }
       ],
       "layout": {
        "annotations": [
         {
          "font": {
           "size": 16
          },
          "showarrow": false,
          "text": "EPS 추이",
          "x": 0.5,
          "xanchor": "center",
          "xref": "paper",
          "y": 1,
          "yanchor": "bottom",
          "yref": "paper"
         },
         {
          "font": {
           "size": 16
          },
          "showarrow": false,
          "text": "EPS 성장률 (YoY)",
          "x": 0.5,
          "xanchor": "center",
          "xref": "paper",
          "y": 0.6333333333333333,
          "yanchor": "bottom",
          "yref": "paper"
         },
         {
          "font": {
           "size": 16
          },
          "showarrow": false,
          "text": "실적 가속화",
          "x": 0.5,
          "xanchor": "center",
          "xref": "paper",
          "y": 0.26666666666666666,
          "yanchor": "bottom",
          "yref": "paper"
         },
         {
          "showarrow": false,
          "text": "CAN SLIM 기준 (25%)",
          "x": 1,
          "xanchor": "right",
          "xref": "x2 domain",
          "y": 25,
          "yanchor": "bottom",
          "yref": "y2"
         },
         {
          "showarrow": false,
          "text": "우수 기준 (50%)",
          "x": 1,
          "xanchor": "right",
          "xref": "x2 domain",
          "y": 50,
          "yanchor": "bottom",
          "yref": "y2"
         }
        ],
        "height": 900,
        "shapes": [
         {
          "line": {
           "color": "orange",
           "dash": "dash"
          },
          "type": "line",
          "x0": 0,
          "x1": 1,
          "xref": "x2 domain",
          "y0": 25,
          "y1": 25,
          "yref": "y2"
         },
         {
          "line": {
           "color": "red",
           "dash": "dash"
          },
          "type": "line",
          "x0": 0,
          "x1": 1,
          "xref": "x2 domain",
          "y0": 50,
          "y1": 50,
          "yref": "y2"
         },
         {
          "line": {
           "color": "gray",
           "dash": "solid"
          },
          "type": "line",
          "x0": 0,
          "x1": 1,
          "xref": "x3 domain",
          "y0": 0,
          "y1": 0,
          "yref": "y3"
         }
        ],
        "showlegend": false,
        "template": {
         "data": {
          "bar": [
           {
            "error_x": {
             "color": "#2a3f5f"
            },
            "error_y": {
             "color": "#2a3f5f"
            },
            "marker": {
             "line": {
              "color": "#E5ECF6",
              "width": 0.5
             },
             "pattern": {
              "fillmode": "overlay",
              "size": 10,
              "solidity": 0.2
             }
            },
            "type": "bar"
           }
          ],
          "barpolar": [
           {
            "marker": {
             "line": {
              "color": "#E5ECF6",
              "width": 0.5
             },
             "pattern": {
              "fillmode": "overlay",
              "size": 10,
              "solidity": 0.2
             }
            },
            "type": "barpolar"
           }
          ],
          "carpet": [
           {
            "aaxis": {
             "endlinecolor": "#2a3f5f",
             "gridcolor": "white",
             "linecolor": "white",
             "minorgridcolor": "white",
             "startlinecolor": "#2a3f5f"
            },
            "baxis": {
             "endlinecolor": "#2a3f5f",
             "gridcolor": "white",
             "linecolor": "white",
             "minorgridcolor": "white",
             "startlinecolor": "#2a3f5f"
            },
            "type": "carpet"
           }
          ],
          "choropleth": [
           {
            "colorbar": {
             "outlinewidth": 0,
             "ticks": ""
            },
            "type": "choropleth"
           }
          ],
          "contour": [
           {
            "colorbar": {
             "outlinewidth": 0,
             "ticks": ""
            },
            "colorscale": [
             [
              0,
              "#0d0887"
             ],
             [
              0.1111111111111111,
              "#46039f"
             ],
             [
              0.2222222222222222,
              "#7201a8"
             ],
             [
              0.3333333333333333,
              "#9c179e"
             ],
             [
              0.4444444444444444,
              "#bd3786"
             ],
             [
              0.5555555555555556,
              "#d8576b"
             ],
             [
              0.6666666666666666,
              "#ed7953"
             ],
             [
              0.7777777777777778,
              "#fb9f3a"
             ],
             [
              0.8888888888888888,
              "#fdca26"
             ],
             [
              1,
              "#f0f921"
             ]
            ],
            "type": "contour"
           }
          ],
          "contourcarpet": [
           {
            "colorbar": {
             "outlinewidth": 0,
             "ticks": ""
            },
            "type": "contourcarpet"
           }
          ],
          "heatmap": [
           {
            "colorbar": {
             "outlinewidth": 0,
             "ticks": ""
            },
            "colorscale": [
             [
              0,
              "#0d0887"
             ],
             [
              0.1111111111111111,
              "#46039f"
             ],
             [
              0.2222222222222222,
              "#7201a8"
             ],
             [
              0.3333333333333333,
              "#9c179e"
             ],
             [
              0.4444444444444444,
              "#bd3786"
             ],
             [
              0.5555555555555556,
              "#d8576b"
             ],
             [
              0.6666666666666666,
              "#ed7953"
             ],
             [
              0.7777777777777778,
              "#fb9f3a"
             ],
             [
              0.8888888888888888,
              "#fdca26"
             ],
             [
              1,
              "#f0f921"
             ]
            ],
            "type": "heatmap"
           }
          ],
          "histogram": [
           {
            "marker": {
             "pattern": {
              "fillmode": "overlay",
              "size": 10,
              "solidity": 0.2
             }
            },
            "type": "histogram"
           }
          ],
          "histogram2d": [
           {
            "colorbar": {
             "outlinewidth": 0,
             "ticks": ""
            },
            "colorscale": [
             [
              0,
              "#0d0887"
             ],
             [
              0.1111111111111111,
              "#46039f"
             ],
             [
              0.2222222222222222,
              "#7201a8"
             ],
             [
              0.3333333333333333,
              "#9c179e"
             ],
             [
              0.4444444444444444,
              "#bd3786"
             ],
             [
              0.5555555555555556,
              "#d8576b"
             ],
             [
              0.6666666666666666,
              "#ed7953"
             ],
             [
              0.7777777777777778,
              "#fb9f3a"
             ],
             [
              0.8888888888888888,
              "#fdca26"
             ],
             [
              1,
              "#f0f921"
             ]
            ],
            "type": "histogram2d"
           }
          ],
          "histogram2dcontour": [
           {
            "colorbar": {
             "outlinewidth": 0,
             "ticks": ""
            },
            "colorscale": [
             [
              0,
              "#0d0887"
             ],
             [
              0.1111111111111111,
              "#46039f"
             ],
             [
              0.2222222222222222,
              "#7201a8"
             ],
             [
              0.3333333333333333,
              "#9c179e"
             ],
             [
              0.4444444444444444,
              "#bd3786"
             ],
             [
              0.5555555555555556,
              "#d8576b"
             ],
             [
              0.6666666666666666,
              "#ed7953"
             ],
             [
              0.7777777777777778,
              "#fb9f3a"
             ],
             [
              0.8888888888888888,
              "#fdca26"
             ],
             [
              1,
              "#f0f921"
             ]
            ],
            "type": "histogram2dcontour"
           }
          ],
          "mesh3d": [
           {
            "colorbar": {
             "outlinewidth": 0,
             "ticks": ""
            },
            "type": "mesh3d"
           }
          ],
          "parcoords": [
           {
            "line": {
             "colorbar": {
              "outlinewidth": 0,
              "ticks": ""
             }
            },
            "type": "parcoords"
           }
          ],
          "pie": [
           {
            "automargin": true,
            "type": "pie"
           }
          ],
          "scatter": [
           {
            "fillpattern": {
             "fillmode": "overlay",
             "size": 10,
             "solidity": 0.2
            },
            "type": "scatter"
           }
          ],
          "scatter3d": [
           {
            "line": {
             "colorbar": {
              "outlinewidth": 0,
              "ticks": ""
             }
            },
            "marker": {
             "colorbar": {
              "outlinewidth": 0,
              "ticks": ""
             }
            },
            "type": "scatter3d"
           }
          ],
          "scattercarpet": [
           {
            "marker": {
             "colorbar": {
              "outlinewidth": 0,
              "ticks": ""
             }
            },
            "type": "scattercarpet"
           }
          ],
          "scattergeo": [
           {
            "marker": {
             "colorbar": {
              "outlinewidth": 0,
              "ticks": ""
             }
            },
            "type": "scattergeo"
           }
          ],
          "scattergl": [
           {
            "marker": {
             "colorbar": {
              "outlinewidth": 0,
              "ticks": ""
             }
            },
            "type": "scattergl"
           }
          ],
          "scattermap": [
           {
            "marker": {
             "colorbar": {
              "outlinewidth": 0,
              "ticks": ""
             }
            },
            "type": "scattermap"
           }
          ],
          "scattermapbox": [
           {
            "marker": {
             "colorbar": {
              "outlinewidth": 0,
              "ticks": ""
             }
            },
            "type": "scattermapbox"
           }
          ],
          "scatterpolar": [
           {
            "marker": {
             "colorbar": {
              "outlinewidth": 0,
              "ticks": ""
             }
            },
            "type": "scatterpolar"
           }
          ],
          "scatterpolargl": [
           {
            "marker": {
             "colorbar": {
              "outlinewidth": 0,
              "ticks": ""
             }
            },
            "type": "scatterpolargl"
           }
          ],
          "scatterternary": [
           {
            "marker": {
             "colorbar": {
              "outlinewidth": 0,
              "ticks": ""
             }
            },
            "type": "scatterternary"
           }
          ],
          "surface": [
           {
            "colorbar": {
             "outlinewidth": 0,
             "ticks": ""
            },
            "colorscale": [
             [
              0,
              "#0d0887"
             ],
             [
              0.1111111111111111,
              "#46039f"
             ],
             [
              0.2222222222222222,
              "#7201a8"
             ],
             [
              0.3333333333333333,
              "#9c179e"
             ],
             [
              0.4444444444444444,
              "#bd3786"
             ],
             [
              0.5555555555555556,
              "#d8576b"
             ],
             [
              0.6666666666666666,
              "#ed7953"
             ],
             [
              0.7777777777777778,
              "#fb9f3a"
             ],
             [
              0.8888888888888888,
              "#fdca26"
             ],
             [
              1,
              "#f0f921"
             ]
            ],
            "type": "surface"
           }
          ],
          "table": [
           {
            "cells": {
             "fill": {
              "color": "#EBF0F8"
             },
             "line": {
              "color": "white"
             }
            },
            "header": {
             "fill": {
              "color": "#C8D4E3"
             },
             "line": {
              "color": "white"
             }
            },
            "type": "table"
           }
          ]
         },
         "layout": {
          "annotationdefaults": {
           "arrowcolor": "#2a3f5f",
           "arrowhead": 0,
           "arrowwidth": 1
          },
          "autotypenumbers": "strict",
          "coloraxis": {
           "colorbar": {
            "outlinewidth": 0,
            "ticks": ""
           }
          },
          "colorscale": {
           "diverging": [
            [
             0,
             "#8e0152"
            ],
            [
             0.1,
             "#c51b7d"
            ],
            [
             0.2,
             "#de77ae"
            ],
            [
             0.3,
             "#f1b6da"
            ],
            [
             0.4,
             "#fde0ef"
            ],
            [
             0.5,
             "#f7f7f7"
            ],
            [
             0.6,
             "#e6f5d0"
            ],
            [
             0.7,
             "#b8e186"
            ],
            [
             0.8,
             "#7fbc41"
            ],
            [
             0.9,
             "#4d9221"
            ],
            [
             1,
             "#276419"
            ]
           ],
           "sequential": [
            [
             0,
             "#0d0887"
            ],
            [
             0.1111111111111111,
             "#46039f"
            ],
            [
             0.2222222222222222,
             "#7201a8"
            ],
            [
             0.3333333333333333,
             "#9c179e"
            ],
            [
             0.4444444444444444,
             "#bd3786"
            ],
            [
             0.5555555555555556,
             "#d8576b"
            ],
            [
             0.6666666666666666,
             "#ed7953"
            ],
            [
             0.7777777777777778,
             "#fb9f3a"
            ],
            [
             0.8888888888888888,
             "#fdca26"
            ],
            [
             1,
             "#f0f921"
            ]
           ],
           "sequentialminus": [
            [
             0,
             "#0d0887"
            ],
            [
             0.1111111111111111,
             "#46039f"
            ],
            [
             0.2222222222222222,
             "#7201a8"
            ],
            [
             0.3333333333333333,
             "#9c179e"
            ],
            [
             0.4444444444444444,
             "#bd3786"
            ],
            [
             0.5555555555555556,
             "#d8576b"
            ],
            [
             0.6666666666666666,
             "#ed7953"
            ],
            [
             0.7777777777777778,
             "#fb9f3a"
            ],
            [
             0.8888888888888888,
             "#fdca26"
            ],
            [
             1,
             "#f0f921"
            ]
           ]
          },
          "colorway": [
           "#636efa",
           "#EF553B",
           "#00cc96",
           "#ab63fa",
           "#FFA15A",
           "#19d3f3",
           "#FF6692",
           "#B6E880",
           "#FF97FF",
           "#FECB52"
          ],
          "font": {
           "color": "#2a3f5f"
          },
          "geo": {
           "bgcolor": "white",
           "lakecolor": "white",
           "landcolor": "#E5ECF6",
           "showlakes": true,
           "showland": true,
           "subunitcolor": "white"
          },
          "hoverlabel": {
           "align": "left"
          },
          "hovermode": "closest",
          "mapbox": {
           "style": "light"
          },
          "paper_bgcolor": "white",
          "plot_bgcolor": "#E5ECF6",
          "polar": {
           "angularaxis": {
            "gridcolor": "white",
            "linecolor": "white",
            "ticks": ""
           },
           "bgcolor": "#E5ECF6",
           "radialaxis": {
            "gridcolor": "white",
            "linecolor": "white",
            "ticks": ""
           }
          },
          "scene": {
           "xaxis": {
            "backgroundcolor": "#E5ECF6",
            "gridcolor": "white",
            "gridwidth": 2,
            "linecolor": "white",
            "showbackground": true,
            "ticks": "",
            "zerolinecolor": "white"
           },
           "yaxis": {
            "backgroundcolor": "#E5ECF6",
            "gridcolor": "white",
            "gridwidth": 2,
            "linecolor": "white",
            "showbackground": true,
            "ticks": "",
            "zerolinecolor": "white"
           },
           "zaxis": {
            "backgroundcolor": "#E5ECF6",
            "gridcolor": "white",
            "gridwidth": 2,
            "linecolor": "white",
            "showbackground": true,
            "ticks": "",
            "zerolinecolor": "white"
           }
          },
          "shapedefaults": {
           "line": {
            "color": "#2a3f5f"
           }
          },
          "ternary": {
           "aaxis": {
            "gridcolor": "white",
            "linecolor": "white",
            "ticks": ""
           },
           "baxis": {
            "gridcolor": "white",
            "linecolor": "white",
            "ticks": ""
           },
           "bgcolor": "#E5ECF6",
           "caxis": {
            "gridcolor": "white",
            "linecolor": "white",
            "ticks": ""
           }
          },
          "title": {
           "x": 0.05
          },
          "xaxis": {
           "automargin": true,
           "gridcolor": "white",
           "linecolor": "white",
           "ticks": "",
           "title": {
            "standoff": 15
           },
           "zerolinecolor": "white",
           "zerolinewidth": 2
          },
          "yaxis": {
           "automargin": true,
           "gridcolor": "white",
           "linecolor": "white",
           "ticks": "",
           "title": {
            "standoff": 15
           },
           "zerolinecolor": "white",
           "zerolinewidth": 2
          }
         }
        },
        "title": {
         "text": "삼성전자 - C (Current Earnings) 분석"
        },
        "xaxis": {
         "anchor": "y",
         "domain": [
          0,
          1
         ]
        },
        "xaxis2": {
         "anchor": "y2",
         "domain": [
          0,
          1
         ]
        },
        "xaxis3": {
         "anchor": "y3",
         "domain": [
          0,
          1
         ],
         "title": {
          "text": "분기"
         }
        },
        "yaxis": {
         "anchor": "x",
         "domain": [
          0.7333333333333334,
          1
         ],
         "title": {
          "text": "EPS"
         }
        },
        "yaxis2": {
         "anchor": "x2",
         "domain": [
          0.3666666666666667,
          0.6333333333333333
         ],
         "title": {
          "text": "성장률(%)"
         }
        },
        "yaxis3": {
         "anchor": "x3",
         "domain": [
          0,
          0.26666666666666666
         ],
         "title": {
          "text": "가속도(%p)"
         }
        }
       }
      }
     },
     "metadata": {},
     "output_type": "display_data"
    }
   ],
   "source": [
    "def visualize_earnings_growth(df, ticker_name):\n",
    "    \"\"\"\n",
    "    실적 성장률 시각화\n",
    "    \"\"\"\n",
    "    fig = make_subplots(\n",
    "        rows=3, cols=1,\n",
    "        subplot_titles=('EPS 추이', 'EPS 성장률 (YoY)', '실적 가속화'),\n",
    "        vertical_spacing=0.1\n",
    "    )\n",
    "    \n",
    "    # 1. EPS 추이\n",
    "    fig.add_trace(\n",
    "        go.Bar(x=df.index, y=df['EPS'], name='EPS',\n",
    "               marker_color='lightblue'),\n",
    "        row=1, col=1\n",
    "    )\n",
    "    \n",
    "    # 2. EPS 성장률\n",
    "    colors = ['green' if x >= 25 else 'red' for x in df['EPS_YoY'].fillna(0)]\n",
    "    fig.add_trace(\n",
    "        go.Bar(x=df.index, y=df['EPS_YoY'], name='EPS YoY %',\n",
    "               marker_color=colors),\n",
    "        row=2, col=1\n",
    "    )\n",
    "    \n",
    "    # 기준선 추가\n",
    "    fig.add_hline(y=25, line_dash=\"dash\", line_color=\"orange\",\n",
    "                  annotation_text=\"CAN SLIM 기준 (25%)\",\n",
    "                  row=2, col=1)\n",
    "    fig.add_hline(y=50, line_dash=\"dash\", line_color=\"red\",\n",
    "                  annotation_text=\"우수 기준 (50%)\",\n",
    "                  row=2, col=1)\n",
    "    \n",
    "    # 3. 실적 가속화\n",
    "    fig.add_trace(\n",
    "        go.Scatter(x=df.index, y=df['EPS_Acceleration'],\n",
    "                   mode='lines+markers', name='가속화',\n",
    "                   line=dict(color='purple', width=2)),\n",
    "        row=3, col=1\n",
    "    )\n",
    "    \n",
    "    fig.add_hline(y=0, line_dash=\"solid\", line_color=\"gray\",\n",
    "                  row=3, col=1)\n",
    "    \n",
    "    # 레이아웃 설정\n",
    "    fig.update_layout(\n",
    "        title=f'{ticker_name} - C (Current Earnings) 분석',\n",
    "        height=900,\n",
    "        showlegend=False\n",
    "    )\n",
    "    \n",
    "    fig.update_xaxes(title_text=\"분기\", row=3, col=1)\n",
    "    fig.update_yaxes(title_text=\"EPS\", row=1, col=1)\n",
    "    fig.update_yaxes(title_text=\"성장률(%)\", row=2, col=1)\n",
    "    fig.update_yaxes(title_text=\"가속도(%p)\", row=3, col=1)\n",
    "    \n",
    "    fig.show()\n",
    "\n",
    "# 시각화\n",
    "visualize_earnings_growth(samsung_sales.tail(12), '삼성전자')"
   ]
  },
  {
   "cell_type": "markdown",
   "metadata": {},
   "source": [
    "## 6. 여러 종목 스크리닝"
   ]
  },
  {
   "cell_type": "code",
   "execution_count": 7,
   "metadata": {},
   "outputs": [
    {
     "name": "stdout",
     "output_type": "stream",
     "text": [
      "C 지표 스크리닝 결과:\n",
      "   ticker    name     EPS_YoY   Sales_YoY  Acceleration_Score  Growth_Trend  \\\n",
      "0  005930    삼성전자  132.285312   79.833790           33.333333  Accelerating   \n",
      "1  000660  SK하이닉스         inf  597.371588           33.333333  Accelerating   \n",
      "2  035420   NAVER   90.692088   47.632584           33.333333  Accelerating   \n",
      "3  051910    LG화학 -100.000000   -6.451613            0.000000  Decelerating   \n",
      "4  006400   삼성SDI  -70.799494  -77.393157            0.000000  Decelerating   \n",
      "\n",
      "   C_Score  \n",
      "0     80.0  \n",
      "1     80.0  \n",
      "2     80.0  \n",
      "3      0.0  \n",
      "4      0.0  \n"
     ]
    }
   ],
   "source": [
    "def screen_current_earnings(tickers, start, end):\n",
    "    \"\"\"\n",
    "    여러 종목의 C 지표 스크리닝\n",
    "    \"\"\"\n",
    "    results = []\n",
    "    \n",
    "    for ticker in tickers:\n",
    "        try:\n",
    "            name = stock.get_market_ticker_name(ticker)\n",
    "            quarterly = get_quarterly_financials(ticker, start, end)\n",
    "            \n",
    "            if len(quarterly) < 5:  # 최소 5분기 데이터 필요\n",
    "                continue\n",
    "            \n",
    "            growth_df = calculate_eps_growth(quarterly)\n",
    "            sales_df = calculate_sales_growth(growth_df)\n",
    "            acceleration = analyze_earnings_acceleration(sales_df)\n",
    "            \n",
    "            # 최근 데이터\n",
    "            latest = sales_df.iloc[-1]\n",
    "            \n",
    "            results.append({\n",
    "                'ticker': ticker,\n",
    "                'name': name,\n",
    "                'EPS_YoY': latest['EPS_YoY'],\n",
    "                'Sales_YoY': latest['Sales_YoY'],\n",
    "                'Acceleration_Score': acceleration['acceleration_score'],\n",
    "                'Growth_Trend': acceleration['growth_trend'],\n",
    "                'C_Score': calculate_c_score(latest, acceleration)\n",
    "            })\n",
    "            \n",
    "        except Exception as e:\n",
    "            print(f\"Error with {ticker}: {e}\")\n",
    "            continue\n",
    "    \n",
    "    return pd.DataFrame(results)\n",
    "\n",
    "def calculate_c_score(latest_data, acceleration):\n",
    "    \"\"\"\n",
    "    C 지표 종합 점수 계산 (0-100)\n",
    "    \"\"\"\n",
    "    score = 0\n",
    "    \n",
    "    # EPS 성장률 (40점)\n",
    "    if latest_data['EPS_YoY'] >= 50:\n",
    "        score += 40\n",
    "    elif latest_data['EPS_YoY'] >= 25:\n",
    "        score += 30\n",
    "    elif latest_data['EPS_YoY'] >= 15:\n",
    "        score += 20\n",
    "    elif latest_data['EPS_YoY'] >= 0:\n",
    "        score += 10\n",
    "    \n",
    "    # 매출 성장률 (30점)\n",
    "    if latest_data['Sales_YoY'] >= 25:\n",
    "        score += 30\n",
    "    elif latest_data['Sales_YoY'] >= 15:\n",
    "        score += 20\n",
    "    elif latest_data['Sales_YoY'] >= 5:\n",
    "        score += 10\n",
    "    \n",
    "    # 가속화 (30점)\n",
    "    score += acceleration['acceleration_score'] * 0.3\n",
    "    \n",
    "    return min(score, 100)\n",
    "\n",
    "# 테스트: 주요 종목 스크리닝\n",
    "test_tickers = ['005930', '000660', '035420', '051910', '006400']  # 삼성전자, SK하이닉스, 네이버, LG화학, 삼성SDI\n",
    "c_screening = screen_current_earnings(test_tickers, start_str, end_str)\n",
    "\n",
    "print(\"C 지표 스크리닝 결과:\")\n",
    "print(c_screening.sort_values('C_Score', ascending=False))"
   ]
  },
  {
   "cell_type": "markdown",
   "metadata": {},
   "source": [
    "## 7. 통과 종목 필터링"
   ]
  },
  {
   "cell_type": "code",
   "execution_count": 8,
   "metadata": {},
   "outputs": [
    {
     "name": "stdout",
     "output_type": "stream",
     "text": [
      "엄격한 기준 통과 종목:\n",
      "   ticker    name     EPS_YoY   Sales_YoY  C_Score\n",
      "0  005930    삼성전자  132.285312   79.833790     80.0\n",
      "1  000660  SK하이닉스         inf  597.371588     80.0\n",
      "2  035420   NAVER   90.692088   47.632584     80.0\n",
      "\n",
      "완화된 기준 통과 종목:\n",
      "   ticker    name     EPS_YoY   Sales_YoY  C_Score\n",
      "0  005930    삼성전자  132.285312   79.833790     80.0\n",
      "1  000660  SK하이닉스         inf  597.371588     80.0\n",
      "2  035420   NAVER   90.692088   47.632584     80.0\n"
     ]
    }
   ],
   "source": [
    "def filter_c_criteria(screening_df, strict=True):\n",
    "    \"\"\"\n",
    "    CAN SLIM C 기준 통과 종목 필터링\n",
    "    \"\"\"\n",
    "    if strict:\n",
    "        # 엄격한 기준: 모든 조건 충족\n",
    "        filtered = screening_df[\n",
    "            (screening_df['EPS_YoY'] >= 25) &\n",
    "            (screening_df['Sales_YoY'] >= 25) &\n",
    "            (screening_df['Growth_Trend'] == 'Accelerating')\n",
    "        ]\n",
    "    else:\n",
    "        # 완화된 기준: 주요 조건 중 2개 이상 충족\n",
    "        conditions_met = (\n",
    "            (screening_df['EPS_YoY'] >= 25).astype(int) +\n",
    "            (screening_df['Sales_YoY'] >= 25).astype(int) +\n",
    "            (screening_df['Growth_Trend'] == 'Accelerating').astype(int)\n",
    "        )\n",
    "        filtered = screening_df[conditions_met >= 2]\n",
    "    \n",
    "    return filtered\n",
    "\n",
    "# 엄격한 기준 적용\n",
    "passed_strict = filter_c_criteria(c_screening, strict=True)\n",
    "print(\"엄격한 기준 통과 종목:\")\n",
    "print(passed_strict[['ticker', 'name', 'EPS_YoY', 'Sales_YoY', 'C_Score']])\n",
    "\n",
    "# 완화된 기준 적용\n",
    "passed_relaxed = filter_c_criteria(c_screening, strict=False)\n",
    "print(\"\\n완화된 기준 통과 종목:\")\n",
    "print(passed_relaxed[['ticker', 'name', 'EPS_YoY', 'Sales_YoY', 'C_Score']])"
   ]
  },
  {
   "cell_type": "markdown",
   "metadata": {},
   "source": [
    "## 마무리\n",
    "\n",
    "### 핵심 포인트\n",
    "1. **분기 EPS 성장률**이 25% 이상인 종목 찾기\n",
    "2. **매출 성장률**도 함께 확인하여 실적 품질 검증\n",
    "3. **가속화 패턴** 확인으로 모멘텀 있는 종목 선별\n",
    "4. 한국 시장 데이터의 특성을 고려한 처리\n",
    "\n",
    "### 주의사항\n",
    "- pykrx는 일별 데이터를 제공하므로 분기별 집계 필요\n",
    "- 실제 분기 실적 발표일과 데이터 업데이트 시차 존재\n",
    "- 업종별 특성을 고려한 기준 조정 필요\n",
    "\n",
    "### 다음 단계\n",
    "- **03_annual_earnings_analysis.ipynb**: A 지표 (연간 실적) 분석\n",
    "- 장기 성장성과 안정성 평가"
   ]
  }
 ],
 "metadata": {
  "kernelspec": {
   "display_name": "ai",
   "language": "python",
   "name": "python3"
  },
  "language_info": {
   "codemirror_mode": {
    "name": "ipython",
    "version": 3
   },
   "file_extension": ".py",
   "mimetype": "text/x-python",
   "name": "python",
   "nbconvert_exporter": "python",
   "pygments_lexer": "ipython3",
   "version": "3.10.18"
  }
 },
 "nbformat": 4,
 "nbformat_minor": 4
}
